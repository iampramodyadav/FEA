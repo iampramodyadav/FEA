{
 "cells": [
  {
   "cell_type": "markdown",
   "metadata": {},
   "source": [
    "---"
   ]
  },
  {
   "cell_type": "markdown",
   "metadata": {
    "id": "gqpSYvPPF1gG"
   },
   "source": [
    "<div align=\"center\">\n",
    "  <h1>Implementation of Finite Element Analysis for One Dimensional Bar Elements in Python\n",
    "</div>"
   ]
  },
  {
   "cell_type": "markdown",
   "metadata": {},
   "source": [
    "---"
   ]
  },
  {
   "cell_type": "markdown",
   "metadata": {
    "id": "vEca02VvHfUj"
   },
   "source": [
    "<p><div align=\"center\">\n",
    "  Pramod Kumar Yadav\n",
    "</div><p>\n",
    "<div align=\"center\">\n",
    "Roll No. 20132015\n",
    "</div> \n",
    "<div align=\"center\">\n",
    "M.Tech- Machine Design (3rd Sem)\n",
    "</div>    \n",
    "<div align=\"center\">\n",
    "Indian Institute of Technology (BHU) Varanasi\n",
    "</div>"
   ]
  },
  {
   "cell_type": "markdown",
   "metadata": {},
   "source": [
    "---"
   ]
  },
  {
   "cell_type": "markdown",
   "metadata": {
    "toc": true
   },
   "source": [
    "<h1>Table of Contents<span class=\"tocSkip\"></span></h1>\n",
    "<div class=\"toc\"><ul class=\"toc-item\"><li><span><a href=\"#Overview\" data-toc-modified-id=\"Overview-1\"><span class=\"toc-item-num\">1&nbsp;&nbsp;</span>Overview</a></span></li><li><span><a href=\"#Goals\" data-toc-modified-id=\"Goals-2\"><span class=\"toc-item-num\">2&nbsp;&nbsp;</span>Goals</a></span></li><li><span><a href=\"#Specification\" data-toc-modified-id=\"Specification-3\"><span class=\"toc-item-num\">3&nbsp;&nbsp;</span>Specification</a></span></li><li><span><a href=\"#Detail-Code-Overview-with-Example\" data-toc-modified-id=\"Detail-Code-Overview-with-Example-4\"><span class=\"toc-item-num\">4&nbsp;&nbsp;</span><strong>Detail Code Overview with Example</strong></a></span><ul class=\"toc-item\"><li><span><a href=\"#Shape-function-and-it's-derivative\" data-toc-modified-id=\"Shape-function-and-it's-derivative-4.1\"><span class=\"toc-item-num\">4.1&nbsp;&nbsp;</span>Shape function and it's derivative</a></span><ul class=\"toc-item\"><li><span><a href=\"#Function-for-shape-function-in-Python-(Shape)\" data-toc-modified-id=\"Function-for-shape-function-in-Python-(Shape)-4.1.1\"><span class=\"toc-item-num\">4.1.1&nbsp;&nbsp;</span>Function for shape function in Python (Shape)</a></span></li><li><span><a href=\"#Function-for-derivative-of-shape-function-(dShape)\" data-toc-modified-id=\"Function-for-derivative-of-shape-function-(dShape)-4.1.2\"><span class=\"toc-item-num\">4.1.2&nbsp;&nbsp;</span>Function for derivative of shape function (dShape)</a></span></li><li><span><a href=\"#Function-for-Visualization-of-shape-function-(PlotShape)\" data-toc-modified-id=\"Function-for-Visualization-of-shape-function-(PlotShape)-4.1.3\"><span class=\"toc-item-num\">4.1.3&nbsp;&nbsp;</span>Function for Visualization of shape function (PlotShape)</a></span></li></ul></li><li><span><a href=\"#Gauss-Legendre-Quadrature-implementation-in-Python\" data-toc-modified-id=\"Gauss-Legendre-Quadrature-implementation-in-Python-4.2\"><span class=\"toc-item-num\">4.2&nbsp;&nbsp;</span>Gauss-Legendre Quadrature implementation in Python</a></span><ul class=\"toc-item\"><li><span><a href=\"#Function-for-Legendre-Polynomial-in-symbolic-form-(Legendre)\" data-toc-modified-id=\"Function-for-Legendre-Polynomial-in-symbolic-form-(Legendre)-4.2.1\"><span class=\"toc-item-num\">4.2.1&nbsp;&nbsp;</span>Function for Legendre Polynomial in symbolic form (Legendre)</a></span></li><li><span><a href=\"#Function-for-Derivative-of-Legendre-Polynomial-in-symbolic-form-(dLegendre)\" data-toc-modified-id=\"Function-for-Derivative-of-Legendre-Polynomial-in-symbolic-form-(dLegendre)-4.2.2\"><span class=\"toc-item-num\">4.2.2&nbsp;&nbsp;</span>Function for Derivative of Legendre Polynomial in symbolic form (dLegendre)</a></span></li><li><span><a href=\"#Function-to-find-roots-of-Legendre-Polynomial-or-Gauss-points-(LegendreRoots)\" data-toc-modified-id=\"Function-to-find-roots-of-Legendre-Polynomial-or-Gauss-points-(LegendreRoots)-4.2.3\"><span class=\"toc-item-num\">4.2.3&nbsp;&nbsp;</span>Function to find roots of Legendre Polynomial or Gauss points (LegendreRoots)</a></span></li><li><span><a href=\"#Function-to-find-Weight-Coefficient-(GaussWeights)\" data-toc-modified-id=\"Function-to-find-Weight-Coefficient-(GaussWeights)-4.2.4\"><span class=\"toc-item-num\">4.2.4&nbsp;&nbsp;</span>Function to find Weight Coefficient (GaussWeights)</a></span></li><li><span><a href=\"#Function-to-Plot-Legendre-Polynomial-(PlotLegendre)\" data-toc-modified-id=\"Function-to-Plot-Legendre-Polynomial-(PlotLegendre)-4.2.5\"><span class=\"toc-item-num\">4.2.5&nbsp;&nbsp;</span>Function to Plot Legendre Polynomial (PlotLegendre)</a></span></li><li><span><a href=\"#Testing-Final-Result\" data-toc-modified-id=\"Testing-Final-Result-4.2.6\"><span class=\"toc-item-num\">4.2.6&nbsp;&nbsp;</span>Testing Final Result</a></span></li></ul></li><li><span><a href=\"#Function-for-Values-of-Shape-Function-and-derivative-at-Gauss-Points-(ShapeLegRoot)\" data-toc-modified-id=\"Function-for-Values-of-Shape-Function-and-derivative-at-Gauss-Points-(ShapeLegRoot)-4.3\"><span class=\"toc-item-num\">4.3&nbsp;&nbsp;</span>Function for Values of Shape Function and derivative at Gauss Points (ShapeLegRoot)</a></span></li><li><span><a href=\"#Element-Calculation\" data-toc-modified-id=\"Element-Calculation-4.4\"><span class=\"toc-item-num\">4.4&nbsp;&nbsp;</span>Element Calculation</a></span><ul class=\"toc-item\"><li><span><a href=\"#Function-for-Global-(All-elements-of-same-size)-$K_{ij}$-&amp;-$f_i$-if-1-D-Bar-(ElemKfi)\" data-toc-modified-id=\"Function-for-Global-(All-elements-of-same-size)-$K_{ij}$-&amp;-$f_i$-if-1-D-Bar-(ElemKfi)-4.4.1\"><span class=\"toc-item-num\">4.4.1&nbsp;&nbsp;</span>Function for Global (All elements of same size) $K_{ij}$ &amp; $f_i$ if 1-D Bar (ElemKfi)</a></span><ul class=\"toc-item\"><li><span><a href=\"#Example:1\" data-toc-modified-id=\"Example:1-4.4.1.1\"><span class=\"toc-item-num\">4.4.1.1&nbsp;&nbsp;</span>Example:1</a></span></li><li><span><a href=\"#Example:2\" data-toc-modified-id=\"Example:2-4.4.1.2\"><span class=\"toc-item-num\">4.4.1.2&nbsp;&nbsp;</span>Example:2</a></span></li></ul></li><li><span><a href=\"#Function-for-Global-(All-elements-of-same-size)-$K_{ij}$-&amp;-$f_i$-if-1-D-Bar-(GlobalKfi)\" data-toc-modified-id=\"Function-for-Global-(All-elements-of-same-size)-$K_{ij}$-&amp;-$f_i$-if-1-D-Bar-(GlobalKfi)-4.4.2\"><span class=\"toc-item-num\">4.4.2&nbsp;&nbsp;</span>Function for Global (All elements of same size) $K_{ij}$ &amp; $f_i$ if 1-D Bar (GlobalKfi)</a></span><ul class=\"toc-item\"><li><span><a href=\"#Example:1\" data-toc-modified-id=\"Example:1-4.4.2.1\"><span class=\"toc-item-num\">4.4.2.1&nbsp;&nbsp;</span><strong>Example:1</strong></a></span></li></ul></li><li><span><a href=\"#Function-for-Global-(Elements-of-different-Size-or-same-size)-$K_{ij}$-&amp;-$f_i$-if-1-D-Bar-(GlobalKfiU)\" data-toc-modified-id=\"Function-for-Global-(Elements-of-different-Size-or-same-size)-$K_{ij}$-&amp;-$f_i$-if-1-D-Bar-(GlobalKfiU)-4.4.3\"><span class=\"toc-item-num\">4.4.3&nbsp;&nbsp;</span>Function for Global (Elements of different Size or same size) $K_{ij}$ &amp; $f_i$ if 1-D Bar (GlobalKfiU)</a></span><ul class=\"toc-item\"><li><span><a href=\"#Example:2\" data-toc-modified-id=\"Example:2-4.4.3.1\"><span class=\"toc-item-num\">4.4.3.1&nbsp;&nbsp;</span><strong>Example:2</strong></a></span></li><li><span><a href=\"#Example:1-(Method-2)\" data-toc-modified-id=\"Example:1-(Method-2)-4.4.3.2\"><span class=\"toc-item-num\">4.4.3.2&nbsp;&nbsp;</span>Example:1 (Method-2)</a></span></li></ul></li></ul></li></ul></li><li><span><a href=\"#Future-scope\" data-toc-modified-id=\"Future-scope-5\"><span class=\"toc-item-num\">5&nbsp;&nbsp;</span>Future scope</a></span></li></ul></div>"
   ]
  },
  {
   "cell_type": "markdown",
   "metadata": {},
   "source": [
    "---"
   ]
  },
  {
   "cell_type": "markdown",
   "metadata": {},
   "source": [
    "---\n",
    "\n",
    "\n",
    " \n",
    " \n",
    "  \n",
    "    \n",
    "     \n",
    "      \n",
    "       \n",
    "        \n",
    "         \n",
    "          \n",
    "          "
   ]
  },
  {
   "cell_type": "markdown",
   "metadata": {
    "id": "t3_iL4tT6hR8"
   },
   "source": [
    "## Overview\n",
    "For this project I have implemented Finite Element Analysis(FEA) in python for a bar element. Purpose of this project is to automate FEA algorithm or steps so it will become easy to solve problems based on the 1-Dimensional (1-D) bar of any number of elements and any order of approximation function.\n",
    "In this project statnderd python library used are [SymPy](https://docs.sympy.org/latest/tutorial/basic_operations.html) and [NumPy](https://numpy.org/devdocs/user/whatisnumpy.html) for Mathemetical calculation and [MatPlotLib](https://matplotlib.org/stable/api/_as_gen/matplotlib.pyplot.plot.html) for plotting graphs. Integration method used here is Gauss-Legendre Quadrature method and also implemented it from scratch."
   ]
  },
  {
   "cell_type": "markdown",
   "metadata": {
    "id": "iFqp532T6j5L"
   },
   "source": [
    "## Goals\n",
    "\n",
    "1. Write python code to implement Gauss-Legendre Quadrature for numerical integration\n",
    "2. Generate Local or Global stiffness matrix and force vector for a given order of approximation (shape function), applied external distributed force and x-Coordinate of nodes"
   ]
  },
  {
   "cell_type": "markdown",
   "metadata": {
    "id": "5Pcrs4XD6n7D"
   },
   "source": [
    "## Specification\n",
    "This project consist of 4 parts-\n",
    "1. Function (or Subroutine) for generating shape functions of given order and visualization of its plot in natural coordinate system\n",
    "2. Function to find Gauss roots of Legendre polynomial, weights and plot Legendre polynomial for required order of polynomial (for minimum integration error.)\n",
    "3. Function for calculation of shape functions at Gauss roots\n",
    "4. Functions to generate Local and Global, Stiffness matrices and force vector for given problem\n",
    "---\n",
    "![Imgur](https://i.imgur.com/nTr2w2q.jpg \"FEA integration Flow Chart\")"
   ]
  },
  {
   "cell_type": "markdown",
   "metadata": {
    "id": "B3SZqRRv62ac"
   },
   "source": [
    "## **Detail Code Overview with Example**"
   ]
  },
  {
   "cell_type": "markdown",
   "metadata": {
    "id": "GOxROZvz63mq"
   },
   "source": [
    "### Shape function and it's derivative\n",
    "\n",
    "We know that shape function in natural coordinate for $P_{th}$ order of approximation can be written as\n",
    "  ![](https://i.imgur.com/1iBlgQQ.png)\n",
    "  \n",
    "Where physical coordinate $x$ and natural coordinate $\\xi$ (here, z in program)[Nptel Reference](https://nptel.ac.in/content/storage2/courses/112104116/lecture-11/11_10.htm)"
   ]
  },
  {
   "cell_type": "markdown",
   "metadata": {
    "id": "C-7kSQHl7YrD"
   },
   "source": [
    "#### Function for shape function in Python (Shape)"
   ]
  },
  {
   "cell_type": "code",
   "execution_count": 1,
   "metadata": {
    "ExecuteTime": {
     "end_time": "2021-08-03T16:02:32.465170Z",
     "start_time": "2021-08-03T16:02:31.235486Z"
    },
    "id": "h8JHzJ1h-4uE"
   },
   "outputs": [],
   "source": [
    "from sympy import *  #importing libraries\n",
    "import numpy as np"
   ]
  },
  {
   "cell_type": "code",
   "execution_count": 2,
   "metadata": {
    "ExecuteTime": {
     "end_time": "2021-08-03T16:02:32.481127Z",
     "start_time": "2021-08-03T16:02:32.468161Z"
    }
   },
   "outputs": [],
   "source": [
    "z=Symbol('z') #for symbolic represenation\n",
    "x=Symbol('x')"
   ]
  },
  {
   "cell_type": "code",
   "execution_count": 3,
   "metadata": {
    "ExecuteTime": {
     "end_time": "2021-08-03T16:02:32.720181Z",
     "start_time": "2021-08-03T16:02:32.484118Z"
    },
    "id": "aQ0xX1rp6vkl"
   },
   "outputs": [],
   "source": [
    "def Shape(p):\n",
    "  '''\n",
    "  =====================================================\n",
    "  Shape(p)\n",
    "  p:  order (p) of approximation\n",
    "  z:  natural coordinate\n",
    "  This function return Shape funtions values at given p\n",
    "  =====================================================\n",
    "  '''\n",
    "  z=Symbol('z')\n",
    "  n=[]\n",
    "\n",
    "  for i in range(0, p+1):\n",
    "    point=-1\n",
    "    point=point+2*i/p\n",
    "    n.append(point)\n",
    "\n",
    "  shape=[1]*(p+1)\n",
    "\n",
    "  for i in range(0,p+1):\n",
    "    for j in range(0,p+1):\n",
    "      if i!=j:\n",
    "        shape[i]=shape[i]*((z-n[j])/(n[i]-n[j]))\n",
    "\n",
    "  return shape"
   ]
  },
  {
   "cell_type": "code",
   "execution_count": 4,
   "metadata": {
    "ExecuteTime": {
     "end_time": "2021-08-03T16:02:32.958056Z",
     "start_time": "2021-08-03T16:02:32.723147Z"
    },
    "colab": {
     "base_uri": "https://localhost:8080/",
     "height": 0
    },
    "id": "isx1y8ImJHXN",
    "outputId": "6b9ca588-d6cc-4dc8-b627-325409bdd5be"
   },
   "outputs": [
    {
     "name": "stdout",
     "output_type": "stream",
     "text": [
      "\n",
      "  =====================================================\n",
      "  Shape(p)\n",
      "  p:  order (p) of approximation\n",
      "  z:  natural coordinate\n",
      "  This function return Shape funtions values at given p\n",
      "  =====================================================\n",
      "  \n"
     ]
    }
   ],
   "source": [
    "print(Shape.__doc__)"
   ]
  },
  {
   "cell_type": "markdown",
   "metadata": {},
   "source": [
    "---\n"
   ]
  },
  {
   "cell_type": "markdown",
   "metadata": {},
   "source": [
    "**Example:** For shape function of 2nd order"
   ]
  },
  {
   "cell_type": "code",
   "execution_count": 5,
   "metadata": {
    "ExecuteTime": {
     "end_time": "2021-08-03T16:02:33.289171Z",
     "start_time": "2021-08-03T16:02:32.961024Z"
    }
   },
   "outputs": [
    {
     "data": {
      "text/plain": [
       "[-1.0*z*(0.5 - 0.5*z), (1.0 - 1.0*z)*(1.0*z + 1.0), 1.0*z*(0.5*z + 0.5)]"
      ]
     },
     "execution_count": 5,
     "metadata": {},
     "output_type": "execute_result"
    }
   ],
   "source": [
    "Shape(2)"
   ]
  },
  {
   "cell_type": "markdown",
   "metadata": {},
   "source": [
    "---"
   ]
  },
  {
   "cell_type": "markdown",
   "metadata": {
    "id": "bfkRt4ztCbE3"
   },
   "source": [
    "#### Function for derivative of shape function (dShape)\n",
    "\n"
   ]
  },
  {
   "cell_type": "code",
   "execution_count": 6,
   "metadata": {
    "ExecuteTime": {
     "end_time": "2021-08-03T16:02:33.305100Z",
     "start_time": "2021-08-03T16:02:33.292137Z"
    },
    "id": "qNIvKJpU9XC4"
   },
   "outputs": [],
   "source": [
    "def dShape(p):\n",
    "  '''\n",
    "  =====================================================\n",
    "  dShape(p)\n",
    "  p:  order (p) of approximation\n",
    "\n",
    "  z:  natural coordinate variable\n",
    "  This function return derivative of Shape funtions values at given p\n",
    "  =====================================================\n",
    "  '''  \n",
    "  z=Symbol('z')\n",
    "  f=Shape(p)\n",
    "\n",
    "  return [simplify(diff(f1)) for f1 in f]"
   ]
  },
  {
   "cell_type": "code",
   "execution_count": 7,
   "metadata": {
    "ExecuteTime": {
     "end_time": "2021-08-03T16:02:33.398851Z",
     "start_time": "2021-08-03T16:02:33.308093Z"
    },
    "colab": {
     "base_uri": "https://localhost:8080/",
     "height": 0
    },
    "id": "KS71C1kLJS3A",
    "outputId": "bb13d937-a5d4-458f-95d9-69ca70bcc7e2"
   },
   "outputs": [
    {
     "name": "stdout",
     "output_type": "stream",
     "text": [
      "\n",
      "  =====================================================\n",
      "  dShape(p)\n",
      "  p:  order (p) of approximation\n",
      "\n",
      "  z:  natural coordinate variable\n",
      "  This function return derivative of Shape funtions values at given p\n",
      "  =====================================================\n",
      "  \n"
     ]
    }
   ],
   "source": [
    "print(dShape.__doc__)"
   ]
  },
  {
   "cell_type": "markdown",
   "metadata": {},
   "source": [
    "---"
   ]
  },
  {
   "cell_type": "markdown",
   "metadata": {},
   "source": [
    "**Example:** For derivative of shape function of 2nd order"
   ]
  },
  {
   "cell_type": "code",
   "execution_count": 8,
   "metadata": {
    "ExecuteTime": {
     "end_time": "2021-08-03T16:02:33.873693Z",
     "start_time": "2021-08-03T16:02:33.400845Z"
    }
   },
   "outputs": [
    {
     "data": {
      "text/plain": [
       "[1.0*z - 0.5, -2.0*z, 1.0*z + 0.5]"
      ]
     },
     "execution_count": 8,
     "metadata": {},
     "output_type": "execute_result"
    }
   ],
   "source": [
    "dShape(2)"
   ]
  },
  {
   "cell_type": "markdown",
   "metadata": {},
   "source": [
    "---"
   ]
  },
  {
   "cell_type": "markdown",
   "metadata": {
    "id": "25tTI8mRDMl1"
   },
   "source": [
    "#### Function for Visualization of shape function (PlotShape)"
   ]
  },
  {
   "cell_type": "code",
   "execution_count": 9,
   "metadata": {
    "ExecuteTime": {
     "end_time": "2021-08-03T16:02:36.220465Z",
     "start_time": "2021-08-03T16:02:33.876685Z"
    },
    "id": "yU3mj1JJ5AVS"
   },
   "outputs": [],
   "source": [
    "import seaborn as sns\n",
    "from matplotlib import style\n",
    "import matplotlib.pyplot as plt"
   ]
  },
  {
   "cell_type": "code",
   "execution_count": 10,
   "metadata": {
    "ExecuteTime": {
     "end_time": "2021-08-03T16:02:36.236421Z",
     "start_time": "2021-08-03T16:02:36.223457Z"
    },
    "id": "Hggl-zn206Zl"
   },
   "outputs": [],
   "source": [
    "def plotShape(p):\n",
    "  '''\n",
    "  =====================================================\n",
    "  plotShape(p)\n",
    "\n",
    "  p: order (p) of approximation\n",
    "  z:value of natural coordinate\n",
    "  This function return plot of Shape funtions (Natural Coordinate)\n",
    "  =====================================================\n",
    "  '''\n",
    "  sns.set()\n",
    "  sns.set_style(\"whitegrid\", {'grid.linestyle': '--'})\n",
    "\n",
    "  z=Symbol('z')\n",
    "  f=Shape(p)\n",
    "  p1=plot(0,(z,-1,1),show=False)\n",
    "  for i in f:\n",
    "    p2=plot(i,(z,-1,1),show=False)\n",
    "    p1.append(p2[0])\n",
    "\n",
    "  return p1.show()"
   ]
  },
  {
   "cell_type": "code",
   "execution_count": 11,
   "metadata": {
    "ExecuteTime": {
     "end_time": "2021-08-03T16:02:36.712175Z",
     "start_time": "2021-08-03T16:02:36.238417Z"
    }
   },
   "outputs": [
    {
     "name": "stdout",
     "output_type": "stream",
     "text": [
      "\n",
      "  =====================================================\n",
      "  plotShape(p)\n",
      "\n",
      "  p: order (p) of approximation\n",
      "  z:value of natural coordinate\n",
      "  This function return plot of Shape funtions (Natural Coordinate)\n",
      "  =====================================================\n",
      "  \n"
     ]
    }
   ],
   "source": [
    "print(plotShape.__doc__)"
   ]
  },
  {
   "cell_type": "markdown",
   "metadata": {},
   "source": [
    "---"
   ]
  },
  {
   "cell_type": "markdown",
   "metadata": {},
   "source": [
    "**Example:** Plot shape function of 3rd order"
   ]
  },
  {
   "cell_type": "code",
   "execution_count": 12,
   "metadata": {
    "ExecuteTime": {
     "end_time": "2021-08-03T16:02:37.332305Z",
     "start_time": "2021-08-03T16:02:36.716136Z"
    }
   },
   "outputs": [
    {
     "data": {
      "image/png": "[encoded data removed]",
      "text/plain": [
       "<Figure size 432x288 with 1 Axes>"
      ]
     },
     "metadata": {},
     "output_type": "display_data"
    }
   ],
   "source": [
    "plotShape(3)"
   ]
  },
  {
   "cell_type": "markdown",
   "metadata": {
    "id": "aq4deDyPDgqi"
   },
   "source": [
    "\n",
    "\n",
    "---\n",
    "\n"
   ]
  },
  {
   "cell_type": "markdown",
   "metadata": {
    "id": "I_IaCaxwaM7C"
   },
   "source": [
    "### Gauss-Legendre Quadrature implementation in Python\n",
    "According to Gauss-Legendre Quadrature rule in any numerical integration scheme, the integral is expressed as a sum over certain points of the domain of integration called as **sampling points** . A typical term in the sum consists of the value of the function at that point multiplied by a suitable number called as the **weight** . Thus,\n",
    "\n",
    "$${\\displaystyle\\int_{-1}^{1}f(x)\\,dx\\approx\\sum _{i=1}^{n}w_{i}f(x_{i})}$$\n",
    "\n",
    "Here, $w_i$ are the weights. In case of Gauss quadrature rule, the sampling points $i= 1,2,3....n$ are called as the Gauss points and $x_i$,$i= 1,2,3....n$ are called as Gauss points coordinates (Roots of [Legendre polynomial](https://en.wikipedia.org/wiki/Legendre_polynomials#Recurrence_relations).)\n"
   ]
  },
  {
   "cell_type": "markdown",
   "metadata": {
    "id": "2UXDDcx8768i"
   },
   "source": [
    "#### Function for Legendre Polynomial in symbolic form (Legendre)\n",
    "\n",
    "To write program for Legendre polynomial we will Bonnet’s recursion formula for Legendre polynomial, which can be written as: \n",
    " * $$\\boxed{\\displaystyle(n+1)P_{n+1}(x)=(2n+1)xP_{n}(x)-nP_{n-1}(x)}$$\n",
    "\n",
    " * $${P_{0}(x)=1\\,}$$\n",
    "\n",
    " * $${P_{1}(x)=x}$$"
   ]
  },
  {
   "cell_type": "code",
   "execution_count": 13,
   "metadata": {
    "ExecuteTime": {
     "end_time": "2021-08-03T16:02:37.348263Z",
     "start_time": "2021-08-03T16:02:37.335299Z"
    },
    "id": "YlA4hfdfLgRC"
   },
   "outputs": [],
   "source": [
    "from sympy import *\n",
    "import numpy as np"
   ]
  },
  {
   "cell_type": "code",
   "execution_count": 14,
   "metadata": {
    "ExecuteTime": {
     "end_time": "2021-08-03T16:02:37.443521Z",
     "start_time": "2021-08-03T16:02:37.350258Z"
    }
   },
   "outputs": [],
   "source": [
    "z=Symbol('z') #for symbolic represenation\n",
    "x=Symbol('x')"
   ]
  },
  {
   "cell_type": "code",
   "execution_count": 15,
   "metadata": {
    "ExecuteTime": {
     "end_time": "2021-08-03T16:02:37.522309Z",
     "start_time": "2021-08-03T16:02:37.446514Z"
    },
    "id": "q5sq4wQDL0vJ"
   },
   "outputs": [],
   "source": [
    "def Legendre(n):\n",
    "  \"\"\"\n",
    "  =====================================================\n",
    "  n: Order of polynomial\n",
    "  x: Variable\n",
    "  This function print Legendre polynomial of order n (Symbolic)\n",
    "  =====================================================\n",
    "  \"\"\"\n",
    "\n",
    "  x=symbols('x')\n",
    "  if (n==0):\n",
    "    return x*0+1.0\n",
    "  elif (n==1):\n",
    "    return x\n",
    "  else:\n",
    "    return ((2.0*n-1.0)*x*Legendre(n-1)-(n-1)*Legendre(n-2))/n"
   ]
  },
  {
   "cell_type": "code",
   "execution_count": 16,
   "metadata": {
    "ExecuteTime": {
     "end_time": "2021-08-03T16:02:37.648997Z",
     "start_time": "2021-08-03T16:02:37.524308Z"
    },
    "colab": {
     "base_uri": "https://localhost:8080/",
     "height": 0
    },
    "id": "yBovgMiWGtBM",
    "outputId": "b7527e74-a9d2-4aff-859c-f460960d07fa"
   },
   "outputs": [
    {
     "name": "stdout",
     "output_type": "stream",
     "text": [
      "\n",
      "  =====================================================\n",
      "  n: Order of polynomial\n",
      "  x: Variable\n",
      "  This function print Legendre polynomial of order n (Symbolic)\n",
      "  =====================================================\n",
      "  \n"
     ]
    }
   ],
   "source": [
    "print(Legendre.__doc__)"
   ]
  },
  {
   "cell_type": "markdown",
   "metadata": {},
   "source": [
    "---\n"
   ]
  },
  {
   "cell_type": "markdown",
   "metadata": {
    "id": "gl6GDH7U4EDM"
   },
   "source": [
    "**Example:** Find Legendre Polynomial for 2nd and 3rd order"
   ]
  },
  {
   "cell_type": "code",
   "execution_count": 17,
   "metadata": {
    "ExecuteTime": {
     "end_time": "2021-08-03T16:02:37.742721Z",
     "start_time": "2021-08-03T16:02:37.651965Z"
    },
    "colab": {
     "base_uri": "https://localhost:8080/",
     "height": 38
    },
    "id": "3wkk0fKZMI5x",
    "outputId": "cedeb3da-c7e3-4db9-9c2b-b060a9e5f75a"
   },
   "outputs": [
    {
     "data": {
      "text/latex": [
       "$\\displaystyle 1.5 x^{2} - 0.5$"
      ],
      "text/plain": [
       "1.5*x**2 - 0.5"
      ]
     },
     "execution_count": 17,
     "metadata": {},
     "output_type": "execute_result"
    }
   ],
   "source": [
    "Legendre(2) #2nd Order"
   ]
  },
  {
   "cell_type": "code",
   "execution_count": 18,
   "metadata": {
    "ExecuteTime": {
     "end_time": "2021-08-03T16:02:37.838491Z",
     "start_time": "2021-08-03T16:02:37.744714Z"
    },
    "colab": {
     "base_uri": "https://localhost:8080/",
     "height": 58
    },
    "id": "C9mkrIzM4ICm",
    "outputId": "09f6f713-7abc-4999-dc49-342dbf7c5a3d",
    "scrolled": false
   },
   "outputs": [
    {
     "data": {
      "text/latex": [
       "$\\displaystyle 1.66666666666667 x \\left(1.5 x^{2} - 0.5\\right) - \\frac{2 x}{3}$"
      ],
      "text/plain": [
       "1.66666666666667*x*(1.5*x**2 - 0.5) - 2*x/3"
      ]
     },
     "execution_count": 18,
     "metadata": {},
     "output_type": "execute_result"
    }
   ],
   "source": [
    "Legendre(3) #3rd order"
   ]
  },
  {
   "cell_type": "code",
   "execution_count": 19,
   "metadata": {
    "ExecuteTime": {
     "end_time": "2021-08-03T16:02:38.043940Z",
     "start_time": "2021-08-03T16:02:37.840464Z"
    },
    "colab": {
     "base_uri": "https://localhost:8080/",
     "height": 38
    },
    "id": "43S3Oi914OJn",
    "outputId": "78aa204a-ac15-4a77-ba60-775cd88e9bda"
   },
   "outputs": [
    {
     "data": {
      "text/latex": [
       "$\\displaystyle x \\left(2.5 x^{2} - 1.5\\right)$"
      ],
      "text/plain": [
       "x*(2.5*x**2 - 1.5)"
      ]
     },
     "execution_count": 19,
     "metadata": {},
     "output_type": "execute_result"
    }
   ],
   "source": [
    "simplify(Legendre(3)) #simplified form"
   ]
  },
  {
   "cell_type": "markdown",
   "metadata": {},
   "source": [
    "---"
   ]
  },
  {
   "cell_type": "markdown",
   "metadata": {
    "id": "Xw-_Vlt5bUPn"
   },
   "source": [
    "#### Function for Derivative of Legendre Polynomial in symbolic form (dLegendre)\n",
    "Here also Bonnet's recursion formula is used. it can be writen as ([Source](https://en.wikipedia.org/wiki/Legendre_polynomials#Recurrence_relations).)\n",
    "\n",
    "$$\\boxed{\\displaystyle{\\frac{x^{2}-1}{n}}{\\frac{d}{dx}}P_{n}(x)=xP_{n}(x)-P_{n-1}(x)\\,}$$\n",
    "$$or$$\n",
    "$$\\boxed{\\displaystyle{\\frac{d}{dx}}P_{n}(x)={\\frac{n}{x^{2}-1}}(xP_{n}(x)-P_{n-1}(x))\\,}$$"
   ]
  },
  {
   "cell_type": "code",
   "execution_count": 20,
   "metadata": {
    "ExecuteTime": {
     "end_time": "2021-08-03T16:02:38.281796Z",
     "start_time": "2021-08-03T16:02:38.045909Z"
    },
    "id": "jZSDWnM9MVII"
   },
   "outputs": [],
   "source": [
    "def dLegendre(n):\n",
    "  \"\"\"\n",
    "  =====================================================\n",
    "  n: Order of polynomial\n",
    "  x: Variable\n",
    "  This function print Derivative of Legendre polynomial of order n  (Symbolic)\n",
    "  =====================================================\n",
    "  \"\"\"\n",
    "  x=symbols('x')\n",
    "  if (n==0):\n",
    "    return x*0\n",
    "  elif (n==1):\n",
    "    return x*0+1.0\n",
    "  else:\n",
    "    return (n/(x**2-1.0))*(x*Legendre(n)-Legendre(n-1))"
   ]
  },
  {
   "cell_type": "code",
   "execution_count": 21,
   "metadata": {
    "ExecuteTime": {
     "end_time": "2021-08-03T16:02:38.377109Z",
     "start_time": "2021-08-03T16:02:38.285785Z"
    },
    "colab": {
     "base_uri": "https://localhost:8080/",
     "height": 0
    },
    "id": "T_VpnDv9HAO4",
    "outputId": "83f817d2-3d43-40be-af28-a78912c098a3"
   },
   "outputs": [
    {
     "name": "stdout",
     "output_type": "stream",
     "text": [
      "\n",
      "  =====================================================\n",
      "  n: Order of polynomial\n",
      "  x: Variable\n",
      "  This function print Derivative of Legendre polynomial of order n  (Symbolic)\n",
      "  =====================================================\n",
      "  \n"
     ]
    }
   ],
   "source": [
    "print(dLegendre.__doc__)"
   ]
  },
  {
   "cell_type": "markdown",
   "metadata": {},
   "source": [
    "---"
   ]
  },
  {
   "cell_type": "markdown",
   "metadata": {
    "id": "TI0sFDMw4mje"
   },
   "source": [
    "**Example:** Find derivative of Legendre Polynomial for 2nd and 3rd order"
   ]
  },
  {
   "cell_type": "code",
   "execution_count": 22,
   "metadata": {
    "ExecuteTime": {
     "end_time": "2021-08-03T16:02:38.503365Z",
     "start_time": "2021-08-03T16:02:38.380102Z"
    }
   },
   "outputs": [
    {
     "data": {
      "text/latex": [
       "$\\displaystyle \\frac{2 \\left(x \\left(1.5 x^{2} - 0.5\\right) - x\\right)}{x^{2} - 1.0}$"
      ],
      "text/plain": [
       "2*(x*(1.5*x**2 - 0.5) - x)/(x**2 - 1.0)"
      ]
     },
     "execution_count": 22,
     "metadata": {},
     "output_type": "execute_result"
    }
   ],
   "source": [
    "dLegendre(2) "
   ]
  },
  {
   "cell_type": "code",
   "execution_count": 23,
   "metadata": {
    "ExecuteTime": {
     "end_time": "2021-08-03T16:02:38.645145Z",
     "start_time": "2021-08-03T16:02:38.506328Z"
    },
    "colab": {
     "base_uri": "https://localhost:8080/",
     "height": 38
    },
    "id": "JTbjniKiMctA",
    "outputId": "c3b22ae1-f264-4ca7-c8c1-da5f8a00d23a"
   },
   "outputs": [
    {
     "data": {
      "text/latex": [
       "$\\displaystyle 3.0 x$"
      ],
      "text/plain": [
       "3.0*x"
      ]
     },
     "execution_count": 23,
     "metadata": {},
     "output_type": "execute_result"
    }
   ],
   "source": [
    "simplify(dLegendre(2)) #2nd order simpified form"
   ]
  },
  {
   "cell_type": "code",
   "execution_count": 24,
   "metadata": {
    "ExecuteTime": {
     "end_time": "2021-08-03T16:02:38.754851Z",
     "start_time": "2021-08-03T16:02:38.649137Z"
    }
   },
   "outputs": [
    {
     "data": {
      "text/latex": [
       "$\\displaystyle \\frac{3 \\left(- 1.5 x^{2} + x \\left(1.66666666666667 x \\left(1.5 x^{2} - 0.5\\right) - \\frac{2 x}{3}\\right) + 0.5\\right)}{x^{2} - 1.0}$"
      ],
      "text/plain": [
       "3*(-1.5*x**2 + x*(1.66666666666667*x*(1.5*x**2 - 0.5) - 2*x/3) + 0.5)/(x**2 - 1.0)"
      ]
     },
     "execution_count": 24,
     "metadata": {},
     "output_type": "execute_result"
    }
   ],
   "source": [
    "dLegendre(3)"
   ]
  },
  {
   "cell_type": "code",
   "execution_count": 25,
   "metadata": {
    "ExecuteTime": {
     "end_time": "2021-08-03T16:02:38.913427Z",
     "start_time": "2021-08-03T16:02:38.756856Z"
    },
    "colab": {
     "base_uri": "https://localhost:8080/",
     "height": 57
    },
    "id": "1PagmuBF4s3D",
    "outputId": "cadc6332-1bcc-41b3-f4d7-be12fe08d57e"
   },
   "outputs": [
    {
     "data": {
      "text/latex": [
       "$\\displaystyle 7.5 x^{2} - 1.5$"
      ],
      "text/plain": [
       "7.5*x**2 - 1.5"
      ]
     },
     "execution_count": 25,
     "metadata": {},
     "output_type": "execute_result"
    }
   ],
   "source": [
    "simplify(dLegendre(3)) #3rd order simpified form"
   ]
  },
  {
   "cell_type": "markdown",
   "metadata": {},
   "source": [
    "---"
   ]
  },
  {
   "cell_type": "markdown",
   "metadata": {
    "id": "C2COlaWlgxXg"
   },
   "source": [
    "#### Function to find roots of Legendre Polynomial or Gauss points (LegendreRoots)\n",
    "Here to find legendre roots Newton–Raphson method is used, which can be written as\n",
    "\n",
    "$${x_{1}=x_{0}-{\\frac{f(x_{0})}{f'(x_{0})}}}$$\n",
    "\n",
    "The first guess ${x_{0}}$ for the ${i}$-th root of a ${n}$ order polynomial ${P_{n}}$ can be given by\n",
    "\n",
    "$${x_{0}=\\cos\\left({\\frac{\\pi(i-1/4)}{n+1/2}}\\right)}$$"
   ]
  },
  {
   "cell_type": "code",
   "execution_count": 26,
   "metadata": {
    "ExecuteTime": {
     "end_time": "2021-08-03T16:02:38.976259Z",
     "start_time": "2021-08-03T16:02:38.916421Z"
    },
    "id": "kfD87rI5HrN0"
   },
   "outputs": [],
   "source": [
    "def LegendreRoots(polyorder,tolerance=1e-20):\n",
    "  \"\"\"\n",
    "  =====================================================\n",
    "  LegendreRoots(polyorder,tolerance=1e-20)\n",
    "\n",
    "  polyorder: Order of polynomial(>2)\n",
    "  tolerance: tolerance of error (default: 1e-20)\n",
    "  Output: [roots, err]\n",
    "  This function return Roots of Legendre polynomial\n",
    "  =====================================================\n",
    "  \"\"\"\n",
    "  if polyorder<2:\n",
    "    err=1\n",
    "  \n",
    "  else:\n",
    "    roots=[]\t\t                                                \n",
    "                                                   \n",
    "    for i in range(1,int((polyorder)/2) +1):\n",
    "      x1=cos(pi*(i-0.25)/(polyorder+0.5))\n",
    "      error=10*tolerance\n",
    "      iters=0\n",
    "\n",
    "      while (error>tolerance) and (iters<1000):\n",
    "        dx=-Legendre(polyorder)/dLegendre(polyorder)\n",
    "        dx=N(dx.subs(x,x1))\n",
    "        x1=N(x1+dx)\n",
    "        iters=iters+1\n",
    "        error=abs(dx)\n",
    "\n",
    "      #print(roots)\n",
    "      roots.append(x1)\n",
    "      #print(roots)\n",
    "\t\t                                               \n",
    "    roots=np.array(roots)\n",
    "    if polyorder%2==0:\n",
    "      roots=np.concatenate( (-1.0*roots, roots[::-1]) )\n",
    "\n",
    "    else:\n",
    "      roots=np.concatenate( (-1.0*roots, [0.0], roots[::-1]) )\n",
    "\n",
    "    err=0\n",
    "                                                  \n",
    "  return [roots, err]"
   ]
  },
  {
   "cell_type": "code",
   "execution_count": 27,
   "metadata": {
    "ExecuteTime": {
     "end_time": "2021-08-03T16:02:39.070557Z",
     "start_time": "2021-08-03T16:02:38.981246Z"
    },
    "colab": {
     "base_uri": "https://localhost:8080/",
     "height": 0
    },
    "id": "2MIVtFHEHzkS",
    "outputId": "99025ee1-907a-4943-b458-0e6804597ecd"
   },
   "outputs": [
    {
     "name": "stdout",
     "output_type": "stream",
     "text": [
      "\n",
      "  =====================================================\n",
      "  LegendreRoots(polyorder,tolerance=1e-20)\n",
      "\n",
      "  polyorder: Order of polynomial(>2)\n",
      "  tolerance: tolerance of error (default: 1e-20)\n",
      "  Output: [roots, err]\n",
      "  This function return Roots of Legendre polynomial\n",
      "  =====================================================\n",
      "  \n"
     ]
    }
   ],
   "source": [
    "print(LegendreRoots.__doc__)"
   ]
  },
  {
   "cell_type": "markdown",
   "metadata": {},
   "source": [
    "---"
   ]
  },
  {
   "cell_type": "markdown",
   "metadata": {
    "id": "Nqflscht26Cr"
   },
   "source": [
    "**Examples** Find Gauss roots or Legendre Roots for 3rd,4th and 7th order legendre polynomial"
   ]
  },
  {
   "cell_type": "code",
   "execution_count": 28,
   "metadata": {
    "ExecuteTime": {
     "end_time": "2021-08-03T16:02:40.148659Z",
     "start_time": "2021-08-03T16:02:39.073511Z"
    },
    "colab": {
     "base_uri": "https://localhost:8080/",
     "height": 0
    },
    "id": "ziev1UR98iO0",
    "outputId": "baec6e2e-cae2-4fd2-c228-25d5dcee4697"
   },
   "outputs": [
    {
     "name": "stdout",
     "output_type": "stream",
     "text": [
      "Gauss points for 3rd order:\n",
      " [-0.774596669241483 0.0 0.774596669241483]\n"
     ]
    }
   ],
   "source": [
    "[Xis, err]=LegendreRoots(3)\n",
    "print(\"Gauss points for 3rd order:\\n\",Xis)"
   ]
  },
  {
   "cell_type": "code",
   "execution_count": 29,
   "metadata": {
    "ExecuteTime": {
     "end_time": "2021-08-03T16:02:43.585095Z",
     "start_time": "2021-08-03T16:02:40.150654Z"
    },
    "colab": {
     "base_uri": "https://localhost:8080/",
     "height": 0
    },
    "id": "bNxRGVmOIIWm",
    "outputId": "06479feb-6606-4ec5-8f11-09dcd04bfaee"
   },
   "outputs": [
    {
     "name": "stdout",
     "output_type": "stream",
     "text": [
      "Gauss points for 4th order:\n",
      " [-0.861136311594053 -0.339981043584856 0.339981043584856 0.861136311594053]\n"
     ]
    }
   ],
   "source": [
    "[Xis, err]=LegendreRoots(4)\n",
    "print(\"Gauss points for 4th order:\\n\",Xis)"
   ]
  },
  {
   "cell_type": "code",
   "execution_count": 30,
   "metadata": {
    "ExecuteTime": {
     "end_time": "2021-08-03T16:03:04.400800Z",
     "start_time": "2021-08-03T16:02:43.588047Z"
    },
    "colab": {
     "base_uri": "https://localhost:8080/",
     "height": 0
    },
    "id": "yVcejyo-8YwN",
    "outputId": "63e3cba3-4b8b-48bf-d3eb-a4c74c9df295"
   },
   "outputs": [
    {
     "name": "stdout",
     "output_type": "stream",
     "text": [
      "Gauss points for 7th order:\n",
      " [-0.949107912342759 -0.741531185599394 -0.405845151377397 0.0\n",
      " 0.405845151377397 0.741531185599394 0.949107912342759]\n"
     ]
    }
   ],
   "source": [
    "[Xis, err]=LegendreRoots(7)\n",
    "print(\"Gauss points for 7th order:\\n\",Xis)"
   ]
  },
  {
   "cell_type": "markdown",
   "metadata": {},
   "source": [
    "---"
   ]
  },
  {
   "cell_type": "markdown",
   "metadata": {
    "id": "ZITxjIGbg3cV"
   },
   "source": [
    "#### Function to find Weight Coefficient (GaussWeights)\n",
    "To find weight coefficient the $i-th$ Gauss node, $x_i$, is the $i-th$ root of $P_n$ and the weights are given by the formula ([Abramowitz & Stegun 1972](https://en.wikipedia.org/wiki/Gaussian_quadrature#Gauss%E2%80%93Legendre_quadrature))\n",
    "\n",
    "$${w_{i}={\\frac{2}{\\left(1-x_{i}^{2}\\right)\\left[P'_{n}(x_{i})\\right]^{2}}}.}$$"
   ]
  },
  {
   "cell_type": "code",
   "execution_count": 31,
   "metadata": {
    "ExecuteTime": {
     "end_time": "2021-08-03T16:03:04.416758Z",
     "start_time": "2021-08-03T16:03:04.403795Z"
    },
    "id": "rVK228HyVRJi"
   },
   "outputs": [],
   "source": [
    "def GaussWeights(polyorder):\n",
    "  \"\"\"\n",
    "  =====================================================\n",
    "  GaussWeights(polyorder)\n",
    "\n",
    "  polyorder: Order of polynomial\n",
    "  Output: [W, xis, err]\n",
    "  This function return Weights(W) and Roots(xis) of Legendre polynomial\n",
    "  =====================================================\n",
    "  \"\"\"\n",
    "  W=[]\n",
    "  [xis,err]=LegendreRoots(polyorder)\n",
    "  xis=list(xis)\n",
    "  if err==0:\n",
    "    for x1 in xis:\n",
    "      w=2.0/( (1.0-x**2)*(dLegendre(polyorder)**2) )\n",
    "      w=w.subs(x,x1)\n",
    "      W.append(w)\n",
    "      err=0\n",
    "  else:\n",
    "    err=1 # could not determine roots - so no weights\n",
    "  return [W, xis, err]"
   ]
  },
  {
   "cell_type": "code",
   "execution_count": 32,
   "metadata": {
    "ExecuteTime": {
     "end_time": "2021-08-03T16:03:04.496546Z",
     "start_time": "2021-08-03T16:03:04.422743Z"
    },
    "colab": {
     "base_uri": "https://localhost:8080/",
     "height": 0
    },
    "id": "piAETldfIrcl",
    "outputId": "6916f944-6870-45ab-ad99-c1fe266b54c4"
   },
   "outputs": [
    {
     "name": "stdout",
     "output_type": "stream",
     "text": [
      "\n",
      "  =====================================================\n",
      "  GaussWeights(polyorder)\n",
      "\n",
      "  polyorder: Order of polynomial\n",
      "  Output: [W, xis, err]\n",
      "  This function return Weights(W) and Roots(xis) of Legendre polynomial\n",
      "  =====================================================\n",
      "  \n"
     ]
    }
   ],
   "source": [
    "print(GaussWeights.__doc__)"
   ]
  },
  {
   "cell_type": "markdown",
   "metadata": {
    "ExecuteTime": {
     "end_time": "2021-08-03T15:31:01.219327Z",
     "start_time": "2021-08-03T15:31:01.210326Z"
    }
   },
   "source": [
    "---"
   ]
  },
  {
   "cell_type": "markdown",
   "metadata": {
    "id": "ndbFIsH22-xj"
   },
   "source": [
    "**Example:** Find weights for 3rd,4th and 7th order legendre polynomial"
   ]
  },
  {
   "cell_type": "code",
   "execution_count": 33,
   "metadata": {
    "ExecuteTime": {
     "end_time": "2021-08-03T16:03:05.474960Z",
     "start_time": "2021-08-03T16:03:04.503527Z"
    },
    "colab": {
     "base_uri": "https://localhost:8080/",
     "height": 0
    },
    "id": "fRE3q2wEqblR",
    "outputId": "6bbf7e6b-9c4b-4924-fd4e-c3907924a5c0"
   },
   "outputs": [
    {
     "name": "stdout",
     "output_type": "stream",
     "text": [
      "Gauss weights for 3rd order:\n",
      " [0.555555555555556, 0.888888888888889, 0.555555555555556]\n"
     ]
    }
   ],
   "source": [
    "[W, xis, err]=GaussWeights(3)\n",
    "print(\"Gauss weights for 3rd order:\\n\",W)"
   ]
  },
  {
   "cell_type": "code",
   "execution_count": 34,
   "metadata": {
    "ExecuteTime": {
     "end_time": "2021-08-03T16:03:08.777661Z",
     "start_time": "2021-08-03T16:03:05.476956Z"
    },
    "colab": {
     "base_uri": "https://localhost:8080/",
     "height": 0
    },
    "id": "D750aKYP3CvA",
    "outputId": "1aacf677-a3ae-49b8-af21-5191ffa1dffb"
   },
   "outputs": [
    {
     "name": "stdout",
     "output_type": "stream",
     "text": [
      "Gauss weights for 4th order:\n",
      " [0.347854845137454, 0.652145154862546, 0.652145154862546, 0.347854845137454]\n"
     ]
    }
   ],
   "source": [
    "[W, xis, err]=GaussWeights(4)\n",
    "print(\"Gauss weights for 4th order:\\n\",W)"
   ]
  },
  {
   "cell_type": "code",
   "execution_count": 35,
   "metadata": {
    "ExecuteTime": {
     "end_time": "2021-08-03T16:03:25.069953Z",
     "start_time": "2021-08-03T16:03:08.779631Z"
    }
   },
   "outputs": [
    {
     "name": "stdout",
     "output_type": "stream",
     "text": [
      "Gauss weights for 7th order:\n",
      " [0.129484966168870, 0.279705391489277, 0.381830050505119, 0.417959183673469, 0.381830050505119, 0.279705391489277, 0.129484966168870]\n"
     ]
    }
   ],
   "source": [
    "[W, xis, err]=GaussWeights(7)\n",
    "print(\"Gauss weights for 7th order:\\n\",W)"
   ]
  },
  {
   "cell_type": "markdown",
   "metadata": {
    "ExecuteTime": {
     "end_time": "2021-08-03T15:31:01.219327Z",
     "start_time": "2021-08-03T15:31:01.210326Z"
    }
   },
   "source": [
    "---"
   ]
  },
  {
   "cell_type": "markdown",
   "metadata": {
    "id": "BtoGH10ujKbq"
   },
   "source": [
    "#### Function to Plot Legendre Polynomial (PlotLegendre)\n",
    "Function can be written as,"
   ]
  },
  {
   "cell_type": "code",
   "execution_count": 36,
   "metadata": {
    "ExecuteTime": {
     "end_time": "2021-08-03T16:03:25.085939Z",
     "start_time": "2021-08-03T16:03:25.071948Z"
    },
    "id": "DeTd4dlxjJ0j"
   },
   "outputs": [],
   "source": [
    "def PlotLegendre(polyorder):\n",
    "  \"\"\"\n",
    "  =====================================================\n",
    "  PlotLegendre(polyorder)\n",
    "  polyorder: Order of polynomial\n",
    "  This function plot legendre plynomial\n",
    "  =====================================================\n",
    "  \"\"\"\n",
    "  sns.set()\n",
    "  sns.set_style(\"whitegrid\", {'grid.linestyle': '--'})\n",
    "  plot(Legendre(polyorder),(x,-1,1))\n"
   ]
  },
  {
   "cell_type": "code",
   "execution_count": 37,
   "metadata": {
    "ExecuteTime": {
     "end_time": "2021-08-03T16:03:25.227089Z",
     "start_time": "2021-08-03T16:03:25.088903Z"
    }
   },
   "outputs": [
    {
     "name": "stdout",
     "output_type": "stream",
     "text": [
      "\n",
      "  =====================================================\n",
      "  PlotLegendre(polyorder)\n",
      "  polyorder: Order of polynomial\n",
      "  This function plot legendre plynomial\n",
      "  =====================================================\n",
      "  \n"
     ]
    }
   ],
   "source": [
    "print(PlotLegendre.__doc__)"
   ]
  },
  {
   "cell_type": "markdown",
   "metadata": {
    "ExecuteTime": {
     "end_time": "2021-08-03T15:31:01.219327Z",
     "start_time": "2021-08-03T15:31:01.210326Z"
    }
   },
   "source": [
    "---"
   ]
  },
  {
   "cell_type": "markdown",
   "metadata": {},
   "source": [
    "**Example:**plot 3rd,4th order legendre polynomial"
   ]
  },
  {
   "cell_type": "code",
   "execution_count": 38,
   "metadata": {
    "ExecuteTime": {
     "end_time": "2021-08-03T16:03:25.561195Z",
     "start_time": "2021-08-03T16:03:25.230081Z"
    }
   },
   "outputs": [
    {
     "data": {
      "image/png": "[encoded data removed]",
      "text/plain": [
       "<Figure size 432x288 with 1 Axes>"
      ]
     },
     "metadata": {},
     "output_type": "display_data"
    }
   ],
   "source": [
    "PlotLegendre(3)"
   ]
  },
  {
   "cell_type": "code",
   "execution_count": 39,
   "metadata": {
    "ExecuteTime": {
     "end_time": "2021-08-03T16:03:25.830540Z",
     "start_time": "2021-08-03T16:03:25.563189Z"
    },
    "colab": {
     "base_uri": "https://localhost:8080/",
     "height": 293
    },
    "id": "titZWbt_87po",
    "outputId": "303ef340-2411-4781-8ed7-f86ef7a2b80a"
   },
   "outputs": [
    {
     "data": {
      "image/png": "[encoded data removed]",
      "text/plain": [
       "<Figure size 432x288 with 1 Axes>"
      ]
     },
     "metadata": {},
     "output_type": "display_data"
    }
   ],
   "source": [
    "PlotLegendre(4)"
   ]
  },
  {
   "cell_type": "markdown",
   "metadata": {},
   "source": [
    "**Plot of legendre polynomial from 1 to 5th order**"
   ]
  },
  {
   "cell_type": "code",
   "execution_count": 40,
   "metadata": {
    "ExecuteTime": {
     "end_time": "2021-08-03T16:03:26.179952Z",
     "start_time": "2021-08-03T16:03:25.832467Z"
    }
   },
   "outputs": [
    {
     "data": {
      "image/png": "[encoded data removed]",
      "text/plain": [
       "<Figure size 432x288 with 1 Axes>"
      ]
     },
     "metadata": {},
     "output_type": "display_data"
    }
   ],
   "source": [
    "p=plot(Legendre(1),Legendre(2),Legendre(3),Legendre(4),Legendre(5),(x,-1,1),\n",
    "       title='Legendre PolyNomial',show=False);\n",
    "p[0].line_color = 'red'\n",
    "p[1].line_color = 'green'\n",
    "p[2].line_color = 'yellow'\n",
    "p[3].line_color = ['b','r']\n",
    "\n",
    "p.show()"
   ]
  },
  {
   "cell_type": "markdown",
   "metadata": {
    "ExecuteTime": {
     "end_time": "2021-08-03T15:31:01.219327Z",
     "start_time": "2021-08-03T15:31:01.210326Z"
    }
   },
   "source": [
    "---"
   ]
  },
  {
   "cell_type": "markdown",
   "metadata": {
    "id": "sVOFuHAFg_n7"
   },
   "source": [
    "#### Testing Final Result\n",
    "Plot and find Gauss roots and weights for polynomial order 2 to 6"
   ]
  },
  {
   "cell_type": "code",
   "execution_count": 41,
   "metadata": {
    "ExecuteTime": {
     "end_time": "2021-08-03T16:03:26.195376Z",
     "start_time": "2021-08-03T16:03:26.182414Z"
    },
    "id": "8sJ7okNLAhag"
   },
   "outputs": [],
   "source": [
    "from matplotlib import style\n",
    "import matplotlib.pyplot as plt"
   ]
  },
  {
   "cell_type": "code",
   "execution_count": 42,
   "metadata": {
    "ExecuteTime": {
     "end_time": "2021-08-03T16:03:42.748454Z",
     "start_time": "2021-08-03T16:03:26.197966Z"
    },
    "colab": {
     "base_uri": "https://localhost:8080/",
     "height": 2367
    },
    "id": "lwFGgZFHVehY",
    "outputId": "9f24fdff-cb72-4c82-9026-1b0c1c826436",
    "scrolled": false
   },
   "outputs": [
    {
     "data": {
      "image/png": "[encoded data removed]",
      "text/plain": [
       "<Figure size 460.8x345.6 with 1 Axes>"
      ]
     },
     "metadata": {},
     "output_type": "display_data"
    },
    {
     "name": "stdout",
     "output_type": "stream",
     "text": [
      "order: 2\n",
      "Weights: [1.00000000000000, 1.00000000000000]\n",
      "Roots    :  [-0.577350269189626, 0.577350269189626]\n",
      "================================================================================================\n",
      "\n",
      "\n",
      "\n",
      "================================================================================================\n"
     ]
    },
    {
     "data": {
      "image/png": "[encoded data removed]",
      "text/plain": [
       "<Figure size 460.8x345.6 with 1 Axes>"
      ]
     },
     "metadata": {},
     "output_type": "display_data"
    },
    {
     "name": "stdout",
     "output_type": "stream",
     "text": [
      "order: 3\n",
      "Weights: [0.555555555555556, 0.888888888888889, 0.555555555555556]\n",
      "Roots    :  [-0.774596669241483, 0.0, 0.774596669241483]\n",
      "================================================================================================\n",
      "\n",
      "\n",
      "\n",
      "================================================================================================\n"
     ]
    },
    {
     "data": {
      "image/png": "[encoded data removed]",
      "text/plain": [
       "<Figure size 460.8x345.6 with 1 Axes>"
      ]
     },
     "metadata": {},
     "output_type": "display_data"
    },
    {
     "name": "stdout",
     "output_type": "stream",
     "text": [
      "order: 4\n",
      "Weights: [0.347854845137454, 0.652145154862546, 0.652145154862546, 0.347854845137454]\n",
      "Roots    :  [-0.861136311594053, -0.339981043584856, 0.339981043584856, 0.861136311594053]\n",
      "================================================================================================\n",
      "\n",
      "\n",
      "\n",
      "================================================================================================\n"
     ]
    },
    {
     "data": {
      "image/png": "[encoded data removed]",
      "text/plain": [
       "<Figure size 460.8x345.6 with 1 Axes>"
      ]
     },
     "metadata": {},
     "output_type": "display_data"
    },
    {
     "name": "stdout",
     "output_type": "stream",
     "text": [
      "order: 5\n",
      "Weights: [0.236926885056189, 0.478628670499366, 0.568888888888889, 0.478628670499366, 0.236926885056189]\n",
      "Roots    :  [-0.906179845938664, -0.538469310105683, 0.0, 0.538469310105683, 0.906179845938664]\n",
      "================================================================================================\n",
      "\n",
      "\n",
      "\n",
      "================================================================================================\n"
     ]
    },
    {
     "data": {
      "image/png": "[encoded data removed]",
      "text/plain": [
       "<Figure size 460.8x345.6 with 1 Axes>"
      ]
     },
     "metadata": {},
     "output_type": "display_data"
    },
    {
     "name": "stdout",
     "output_type": "stream",
     "text": [
      "order: 6\n",
      "Weights: [0.171324492379171, 0.360761573048138, 0.467913934572691, 0.467913934572691, 0.360761573048138, 0.171324492379171]\n",
      "Roots    :  [-0.932469514203152, -0.661209386466265, -0.238619186083197, 0.238619186083197, 0.661209386466265, 0.932469514203152]\n",
      "================================================================================================\n",
      "\n",
      "\n",
      "\n",
      "================================================================================================\n"
     ]
    }
   ],
   "source": [
    "for Polyorder in range(2,7):\n",
    "  plt.rcParams['figure.figsize'] = 6.4, 4.8\n",
    "  plot(Legendre(Polyorder),(x,-1,1))\n",
    "\n",
    "  [W, xis, err]=GaussWeights(Polyorder)\n",
    "  print(\"order:\", Polyorder)\n",
    "  print(\"Weights:\", W)\n",
    "  print (\"Roots    : \",xis)\n",
    "\n",
    "  print('='*90)\n",
    "  print('\\n\\n')\n",
    "  print('='*90)"
   ]
  },
  {
   "cell_type": "markdown",
   "metadata": {
    "id": "RWvTNmRa64dp"
   },
   "source": [
    "\n",
    "\n",
    "---\n",
    "\n"
   ]
  },
  {
   "cell_type": "markdown",
   "metadata": {
    "id": "J9UDVLiRDlxj"
   },
   "source": [
    "### Function for Values of Shape Function and derivative at Gauss Points (ShapeLegRoot)\n",
    "\n",
    " This function calculates the values of shape functions and their derivatives for given order of approximation $p$\n",
    "Note: Here I assumed,\n",
    "- Area is maximum of 2nd order i.e. $Area=a_0+a_1x+a_2x^2$\n",
    "- Distributed Force also is maximum of 2nd order i.e.\n",
    " $f=f_0+f_1x+f_2x^2$\n",
    " \n",
    " We can increase it by just one line code change."
   ]
  },
  {
   "cell_type": "code",
   "execution_count": 43,
   "metadata": {
    "ExecuteTime": {
     "end_time": "2021-08-03T16:03:42.764437Z",
     "start_time": "2021-08-03T16:03:42.754437Z"
    },
    "id": "bEjTdvbZ5a4i"
   },
   "outputs": [],
   "source": [
    "def ShapeLegRoot(p):\n",
    "  \"\"\"\n",
    "  =====================================================\n",
    "  ShapeLegRoot(p)\n",
    "\n",
    "  p : order of approximation (integer)\n",
    "  \n",
    "  Output: [n, W, xis, ShapeValueXi, dShapeValueXi]\n",
    "  Here,\n",
    "  n-    Order of gauss legendre polynomial\n",
    "  W-    Legendre Weights\n",
    "  xis-  Gauss point coordinates (real)\n",
    "  ShapeValueXi-   Value of Shape function at  at all the  Xi (real)(Legendre Roots)\n",
    "  ShapeValueXi-   Value of derivative of Shape function at Gauss points Xi(Legendre Roots) \n",
    "  =====================================================\n",
    "  \"\"\"\n",
    "\n",
    "  p=int(p)\n",
    "\n",
    "  pbar=max(2*p, p+2) \n",
    "  if pbar%2!=0:                                   #if odd\n",
    "    n=(pbar+1)/2\n",
    "  else:\n",
    "    n=(pbar+2)/2\n",
    "\n",
    "  n=int(n)\n",
    "\n",
    "  #print(\"Order of gauss legendre polynomial:\",n)\n",
    "\n",
    "  [W, xis, err]=GaussWeights(n)           #order: Polyorder(n), Weights:  W, Roots: xis\n",
    "\n",
    "  ShapeValueXi=np.zeros((n, p+1))\n",
    "  dShapeValueXi=np.zeros((n, p+1))\n",
    "\n",
    "  #print('ndofel(p+1):',p+1)\n",
    "  #print('Shape of Shape value matrix:',ShapeValueXi.Shape)\n",
    "\n",
    "  s=Shape(p)\n",
    "  ds=dShape(p)\n",
    "\n",
    "  for i in range(0,n):\n",
    "    for j in range(0,p+1):\n",
    "\n",
    "      ShapeValueXi[i][j]=s[j].subs(z,xis[i])          #w.subs(x,x1)\n",
    "      dShapeValueXi[i][j]=ds[j].subs(z,xis[i])\n",
    "\n",
    "  return [n, W, xis, ShapeValueXi, dShapeValueXi]"
   ]
  },
  {
   "cell_type": "code",
   "execution_count": 44,
   "metadata": {
    "ExecuteTime": {
     "end_time": "2021-08-03T16:03:42.875628Z",
     "start_time": "2021-08-03T16:03:42.768403Z"
    },
    "colab": {
     "base_uri": "https://localhost:8080/",
     "height": 0
    },
    "id": "0IGVv0eyvHdm",
    "outputId": "17924b2d-bf66-4388-a75d-a70ac57c8ec1"
   },
   "outputs": [
    {
     "name": "stdout",
     "output_type": "stream",
     "text": [
      "\n",
      "  =====================================================\n",
      "  ShapeLegRoot(p)\n",
      "\n",
      "  p : order of approximation (integer)\n",
      "  \n",
      "  Output: [n, W, xis, ShapeValueXi, dShapeValueXi]\n",
      "  Here,\n",
      "  n-    Order of gauss legendre polynomial\n",
      "  W-    Legendre Weights\n",
      "  xis-  Gauss point coordinates (real)\n",
      "  ShapeValueXi-   Value of Shape function at  at all the  Xi (real)(Legendre Roots)\n",
      "  ShapeValueXi-   Value of derivative of Shape function at Gauss points Xi(Legendre Roots) \n",
      "  =====================================================\n",
      "  \n"
     ]
    }
   ],
   "source": [
    "print(ShapeLegRoot.__doc__)"
   ]
  },
  {
   "cell_type": "markdown",
   "metadata": {
    "id": "HB_VJZ_-vxCp"
   },
   "source": [
    "\n",
    "\n",
    "---\n",
    "\n"
   ]
  },
  {
   "cell_type": "markdown",
   "metadata": {
    "id": "ELhYGTAc6Q89"
   },
   "source": [
    "**Example:** find shape function and derivative of shape function at legendre roots (Gauss Points) for 1st and 2nd order approximation"
   ]
  },
  {
   "cell_type": "code",
   "execution_count": 45,
   "metadata": {
    "ExecuteTime": {
     "end_time": "2021-08-03T16:03:43.003256Z",
     "start_time": "2021-08-03T16:03:42.877591Z"
    },
    "colab": {
     "base_uri": "https://localhost:8080/",
     "height": 0
    },
    "id": "ywj7ObOf3ZOe",
    "outputId": "fe45f6b3-f664-4d52-ec88-ef7805fbcdba"
   },
   "outputs": [
    {
     "name": "stdout",
     "output_type": "stream",
     "text": [
      "Shape Function values at Legendre roots:\n",
      " [[0.78867513 0.21132487]\n",
      " [0.21132487 0.78867513]]\n",
      "Derivative of Shape Function values at Legendre roots\n",
      ": [[-0.5  0.5]\n",
      " [-0.5  0.5]]\n"
     ]
    }
   ],
   "source": [
    "[n, W,xis,ShapeValueXi,dShapeValueXi]=ShapeLegRoot(1)\n",
    "print('Shape Function values at Legendre roots:\\n',ShapeValueXi)\n",
    "print('Derivative of Shape Function values at Legendre roots\\n:',dShapeValueXi)"
   ]
  },
  {
   "cell_type": "code",
   "execution_count": 46,
   "metadata": {
    "ExecuteTime": {
     "end_time": "2021-08-03T16:03:45.881835Z",
     "start_time": "2021-08-03T16:03:43.006247Z"
    },
    "colab": {
     "base_uri": "https://localhost:8080/",
     "height": 0
    },
    "id": "P6e001lX6GXr",
    "outputId": "d28a7d63-6275-45f6-8b07-48c16a6205de"
   },
   "outputs": [
    {
     "name": "stdout",
     "output_type": "stream",
     "text": [
      "Shape Function values at Legendre roots:\n",
      " [[ 0.66000567  0.52093769 -0.2301879   0.04924455]\n",
      " [ 0.00337374  1.00488585 -0.00992135  0.00166176]\n",
      " [ 0.00166176 -0.00992135  1.00488585  0.00337374]\n",
      " [ 0.04924455 -0.2301879   0.52093769  0.66000567]]\n",
      "Derivative of Shape Function values at Legendre roots\n",
      ": [[-2.15765367  3.03540432 -1.09784762  0.22009697]\n",
      " [-0.51503192 -0.71986158  1.48481893 -0.24992543]\n",
      " [ 0.24992543 -1.48481893  0.71986158  0.51503192]\n",
      " [-0.22009697  1.09784762 -3.03540432  2.15765367]]\n"
     ]
    }
   ],
   "source": [
    "[n, W,xis,ShapeValueXi,dShapeValueXi]=ShapeLegRoot(3)\n",
    "print('Shape Function values at Legendre roots:\\n',ShapeValueXi)\n",
    "print('Derivative of Shape Function values at Legendre roots\\n:',dShapeValueXi)"
   ]
  },
  {
   "cell_type": "markdown",
   "metadata": {
    "ExecuteTime": {
     "end_time": "2021-08-03T15:31:01.219327Z",
     "start_time": "2021-08-03T15:31:01.210326Z"
    }
   },
   "source": [
    "---"
   ]
  },
  {
   "cell_type": "markdown",
   "metadata": {
    "id": "gaZaPUjbDGcQ"
   },
   "source": [
    "### Element Calculation\n",
    " Here I will implement function to calculate Stiffness matrix and Force vector for different cases:"
   ]
  },
  {
   "cell_type": "markdown",
   "metadata": {
    "id": "f7Ki1zpvwDg9"
   },
   "source": [
    "* Here linear mapping function used between the physical coordinate (x) and the natural coordinate $\\xi$ (here, z) :\n",
    "\n",
    "  * ![](https://i.imgur.com/2yMRAeP.png)\n",
    "\n",
    "  * Hence, $x_1^k$ (xL) and $x_{p+1}^k$ (xR) are the coordinates of the end nodes of the element $k$ and $p$ denotes the order of approximation.\n",
    "\n",
    "* Expressions for Element Stiffness Matrix and Force Vector\n",
    "  * $$\\boxed{\\displaystyle k_{i j}^{k}=\\int_{-1}^{1} \\hat{E}(\\xi) \\hat{A}(\\xi) \\frac{d \\hat{N}_{i}(\\xi)}{d \\xi} \\frac{d \\hat{N}_{j}(\\xi)}{d \\xi} \\frac{2}{h_{k}} d \\xi \\quad \\text { for } i, j=1,2, \\ldots, p+1}$$\n",
    "\n",
    "  * $$\\boxed{\\displaystyle f_{i}^{k}=\\int_{-1}^{1} \\hat{f}(\\xi) \\hat{N}_{i}(\\xi) \\frac{h_{k}}{2} d \\xi \\quad i=1,2, \\ldots, p+1}$$\n",
    "\n",
    "  "
   ]
  },
  {
   "cell_type": "markdown",
   "metadata": {
    "id": "v0ZmkCrjkAfO"
   },
   "source": [
    "#### Function for Global (All elements of same size) $K_{ij}$ & $f_i$ if 1-D Bar (ElemKfi)"
   ]
  },
  {
   "cell_type": "code",
   "execution_count": 47,
   "metadata": {
    "ExecuteTime": {
     "end_time": "2021-08-03T16:03:45.913748Z",
     "start_time": "2021-08-03T16:03:45.883827Z"
    },
    "id": "ZkkWm_z6Z-Gp"
   },
   "outputs": [],
   "source": [
    "def ElemKfi(k,p,xL,xR,E,a0,a1=0,a2=0,f0=0,f1=0,f2=0):\n",
    "  \"\"\"\n",
    "  =====================================================\n",
    "  ElemKfi(k,p,xL,xR,E,a0,a1=0,a2=0,f0=0,f1=0,f2=0)\n",
    "\n",
    "  k :   element number (integer)\n",
    "  p :   order of approximation (integer)\n",
    "  xL :  x -coordinate of the left end of the element (real)\n",
    "  xR :  x -coordinate of the right end of the element (real)\n",
    "  E :   Young's modules ( E ) of the bar material which is taken as constant (real)\n",
    "  a0,a1,a2 : coefficients in (A=a0 + a1*x + a2*(x**2)) for the area of cross-section ( A ) of the bar (real)\n",
    "  f0,f1,f2 : coefficients in (f = f0 + f1*x + f2*x*x) for the distributed force ( f ) acting on the bar (real)\n",
    "\n",
    "  Output: [Ke, fe]\n",
    "  Ke : element stiffness matrix (real)\n",
    "  fe : element force vector (real)\n",
    "  =====================================================\n",
    "  \"\"\"\n",
    "\n",
    "  Ke=np.zeros((p+1,p+1))  # size of element matrix\n",
    "  h=xR - xL               # h : element length (real)\n",
    "\n",
    "  [n, W,xis,ShapeValueXi,dShapeValueXi]=ShapeLegRoot(p)\n",
    "  fe=np.zeros(p+1)\n",
    "\n",
    "  for m in range(0,n):\n",
    "    xi=xis[m]\n",
    "    x = xL*(1 - z)/2 + xR*(1 + z)/2\n",
    "\n",
    "    EA = E*(a0 + a1*x+a2*(x**2))\n",
    "    EA = EA.subs(z,xi)\n",
    "\n",
    "    f = f0 + f1*x + f2*x*x\n",
    "    f=f.subs(z,xi)\n",
    "\n",
    "    for i in range(0, p+1):\n",
    "      fe[i] = fe[i] + f*ShapeValueXi[m][i]*(h/2)*W[m]\n",
    "\n",
    "      for j in range(0,p+1):\n",
    "        Ke[i][j] = Ke[i][j]+EA*dShapeValueXi[m][i]*dShapeValueXi[m][j]*(2/h)*W[m]\n",
    "\n",
    "  return [Ke, fe]"
   ]
  },
  {
   "cell_type": "code",
   "execution_count": 48,
   "metadata": {
    "ExecuteTime": {
     "end_time": "2021-08-03T16:03:46.039438Z",
     "start_time": "2021-08-03T16:03:45.916741Z"
    },
    "colab": {
     "base_uri": "https://localhost:8080/",
     "height": 0
    },
    "id": "NGt6894Is-i3",
    "outputId": "869edf6e-4337-4dcf-b164-ac9ce705b002"
   },
   "outputs": [
    {
     "name": "stdout",
     "output_type": "stream",
     "text": [
      "\n",
      "  =====================================================\n",
      "  ElemKfi(k,p,xL,xR,E,a0,a1=0,a2=0,f0=0,f1=0,f2=0)\n",
      "\n",
      "  k :   element number (integer)\n",
      "  p :   order of approximation (integer)\n",
      "  xL :  x -coordinate of the left end of the element (real)\n",
      "  xR :  x -coordinate of the right end of the element (real)\n",
      "  E :   Young's modules ( E ) of the bar material which is taken as constant (real)\n",
      "  a0,a1,a2 : coefficients in (A=a0 + a1*x + a2*(x**2)) for the area of cross-section ( A ) of the bar (real)\n",
      "  f0,f1,f2 : coefficients in (f = f0 + f1*x + f2*x*x) for the distributed force ( f ) acting on the bar (real)\n",
      "\n",
      "  Output: [Ke, fe]\n",
      "  Ke : element stiffness matrix (real)\n",
      "  fe : element force vector (real)\n",
      "  =====================================================\n",
      "  \n"
     ]
    }
   ],
   "source": [
    "print(ElemKfi.__doc__)"
   ]
  },
  {
   "cell_type": "markdown",
   "metadata": {
    "id": "krPOnDyuvsLX"
   },
   "source": [
    "\n",
    "\n",
    "---\n",
    "\n"
   ]
  },
  {
   "cell_type": "markdown",
   "metadata": {
    "id": "P_pjViMUWlAk"
   },
   "source": [
    "##### Example:1 \n",
    "**Find Local stiffness matrix for each element and also find force vector due to distributed force.**\n",
    "![Imgur](https://i.imgur.com/iGqOv8Q.jpg)\n"
   ]
  },
  {
   "cell_type": "code",
   "execution_count": 49,
   "metadata": {
    "ExecuteTime": {
     "end_time": "2021-08-03T16:03:46.196557Z",
     "start_time": "2021-08-03T16:03:46.043428Z"
    },
    "colab": {
     "base_uri": "https://localhost:8080/",
     "height": 0
    },
    "id": "nqLdqJfOSzgV",
    "outputId": "9fb487dc-71cc-42b5-f0f9-7f03562919ac"
   },
   "outputs": [
    {
     "name": "stdout",
     "output_type": "stream",
     "text": [
      "Local Stiffness Matrix(1): \n",
      "\n",
      " [[ 16.5 -16.5]\n",
      " [-16.5  16.5]] \n",
      "\n",
      "\n",
      "Local Force Vector (due to distributed force):\n",
      "\n",
      "  [0.612 0.576]\n"
     ]
    }
   ],
   "source": [
    "[ke,fe]=ElemKfi(k=1,p=1,xL=0,xR=10,a0=6,a1=-0.1,a2=0,E=30,f0=0.1296,f1=-0.00216)\n",
    "print(\"Local Stiffness Matrix(1): \\n\\n\", ke,\"\\n\\n\")\n",
    "print(\"Local Force Vector (due to distributed force):\\n\\n \", fe)"
   ]
  },
  {
   "cell_type": "code",
   "execution_count": 50,
   "metadata": {
    "ExecuteTime": {
     "end_time": "2021-08-03T16:03:46.304214Z",
     "start_time": "2021-08-03T16:03:46.199525Z"
    },
    "colab": {
     "base_uri": "https://localhost:8080/",
     "height": 0
    },
    "id": "6CWI-3IvTit8",
    "outputId": "504215b2-e377-44e9-f4a0-245943b5e550"
   },
   "outputs": [
    {
     "name": "stdout",
     "output_type": "stream",
     "text": [
      "Local Stiffness Matrix(2): \n",
      "\n",
      " [[ 13.5 -13.5]\n",
      " [-13.5  13.5]] \n",
      "\n",
      "\n",
      "Lobal Force Vector (due to distributed force):\n",
      "\n",
      "  [0.504 0.468]\n"
     ]
    }
   ],
   "source": [
    "[ke,fe]=ElemKfi(k=2,p=1,xL=10,xR=20,a0=6,a1=-0.1,E=30,f0=0.1296,f1=-0.00216)\n",
    "print(\"Local Stiffness Matrix(2): \\n\\n\", ke,\"\\n\\n\")\n",
    "print(\"Lobal Force Vector (due to distributed force):\\n\\n \", fe)"
   ]
  },
  {
   "cell_type": "code",
   "execution_count": 51,
   "metadata": {
    "ExecuteTime": {
     "end_time": "2021-08-03T16:03:46.398965Z",
     "start_time": "2021-08-03T16:03:46.306210Z"
    },
    "colab": {
     "base_uri": "https://localhost:8080/",
     "height": 0
    },
    "id": "eZnB3P4FTjiU",
    "outputId": "a5f103c4-4fcd-45c2-8a6b-37388004a908"
   },
   "outputs": [
    {
     "name": "stdout",
     "output_type": "stream",
     "text": [
      "Local Stiffness Matrix(3): \n",
      "\n",
      " [[ 10.5 -10.5]\n",
      " [-10.5  10.5]] \n",
      "\n",
      "\n",
      "Lobal Force Vector (due to distributed force):\n",
      "\n",
      "  [0.396 0.36 ]\n"
     ]
    }
   ],
   "source": [
    "[ke,fe]=ElemKfi(k=3,p=1,xL=20,xR=30,a0=6,a1=-0.1,E=30,f0=0.1296,f1=-0.00216)\n",
    "print(\"Local Stiffness Matrix(3): \\n\\n\", ke,\"\\n\\n\")\n",
    "print(\"Lobal Force Vector (due to distributed force):\\n\\n \", fe)"
   ]
  },
  {
   "cell_type": "markdown",
   "metadata": {
    "ExecuteTime": {
     "end_time": "2021-08-03T15:31:01.219327Z",
     "start_time": "2021-08-03T15:31:01.210326Z"
    }
   },
   "source": [
    "---"
   ]
  },
  {
   "cell_type": "markdown",
   "metadata": {
    "id": "gL8XXH6_WwRa"
   },
   "source": [
    "##### Example:2\n",
    "**Find Local stiffness matrix for each element and also find force vector due to distributed force.**\n",
    "- book:\n",
    "Fundamentals of Finite Element Analysis\n",
    "Linear Finite Element Analysis-Ioannis Koutromanos\n",
    "- example-33.2\n",
    "- page-87/729\n",
    "\n",
    "![Imgur](https://i.imgur.com/JlgVqxT.png)"
   ]
  },
  {
   "cell_type": "markdown",
   "metadata": {
    "id": "c0mcwschj32n"
   },
   "source": [
    "**Stiffeness and Force**"
   ]
  },
  {
   "cell_type": "code",
   "execution_count": 52,
   "metadata": {
    "ExecuteTime": {
     "end_time": "2021-08-03T16:03:46.525975Z",
     "start_time": "2021-08-03T16:03:46.401679Z"
    },
    "colab": {
     "base_uri": "https://localhost:8080/",
     "height": 0
    },
    "id": "ElKC-IYFax1Y",
    "outputId": "abe7e31d-ba3f-4199-c5d7-1d5016af01d6"
   },
   "outputs": [
    {
     "name": "stdout",
     "output_type": "stream",
     "text": [
      "Local Stiffness Matrix(1): \n",
      "\n",
      " [[ 1020.83333333 -1020.83333333]\n",
      " [-1020.83333333  1020.83333333]] \n",
      "\n",
      "\n",
      "Lobal Force Vector (due to distributed force):\n",
      "\n",
      "  [5. 5.]\n"
     ]
    }
   ],
   "source": [
    "[ke,fe]=ElemKfi(k=1,p=1,xL=0,xR=5,E=5000,a0=1,a1=0,a2=1/400,f0=2) #for element-1\n",
    "print(\"Local Stiffness Matrix(1): \\n\\n\", ke,\"\\n\\n\")\n",
    "print(\"Lobal Force Vector (due to distributed force):\\n\\n \", fe)"
   ]
  },
  {
   "cell_type": "code",
   "execution_count": 53,
   "metadata": {
    "ExecuteTime": {
     "end_time": "2021-08-03T16:03:46.683944Z",
     "start_time": "2021-08-03T16:03:46.527970Z"
    },
    "colab": {
     "base_uri": "https://localhost:8080/",
     "height": 0
    },
    "id": "S6RgO6vLibci",
    "outputId": "8a73b6b6-6bd7-4e84-85dd-f652dddf327a"
   },
   "outputs": [
    {
     "name": "stdout",
     "output_type": "stream",
     "text": [
      "Local Stiffness Matrix(2): \n",
      "\n",
      " [[ 479.16666667 -479.16666667]\n",
      " [-479.16666667  479.16666667]] \n",
      "\n",
      "\n",
      "Lobal Force Vector (due to distributed force):\n",
      "\n",
      "  [15. 15.]\n"
     ]
    }
   ],
   "source": [
    "[ke,fe]=ElemKfi(k=1,p=1,xL=5,xR=20,E=5000,a0=1,a1=0,a2=1/400,f0=2) #for element-2\n",
    "print(\"Local Stiffness Matrix(2): \\n\\n\", ke,\"\\n\\n\")\n",
    "print(\"Lobal Force Vector (due to distributed force):\\n\\n \", fe)"
   ]
  },
  {
   "cell_type": "markdown",
   "metadata": {
    "ExecuteTime": {
     "end_time": "2021-08-03T15:31:01.219327Z",
     "start_time": "2021-08-03T15:31:01.210326Z"
    }
   },
   "source": [
    "---"
   ]
  },
  {
   "cell_type": "markdown",
   "metadata": {
    "id": "pBDY3k7JPTbG"
   },
   "source": [
    " #### Function for Global (All elements of same size) $K_{ij}$ & $f_i$ if 1-D Bar (GlobalKfi)"
   ]
  },
  {
   "cell_type": "code",
   "execution_count": 54,
   "metadata": {
    "ExecuteTime": {
     "end_time": "2021-08-03T16:03:46.777270Z",
     "start_time": "2021-08-03T16:03:46.685943Z"
    },
    "id": "coHXbj3XOnFT"
   },
   "outputs": [],
   "source": [
    "def GlobalKfi(k,p,xL,xR,E,a0,a1=0,a2=0,f0=0,f1=0,f2=0):\n",
    "\n",
    "  \"\"\"\n",
    "  =====================================================\n",
    "    Note: For elements of equal length\n",
    "\n",
    "    GlobalKfi(k,p,xL,xR,E,a0,a1=0,a2=0,f0=0,f1=0,f2=0)\n",
    "\n",
    "    k :   number of elements of same size (integer)\n",
    "    p :   order of approximation (integer)\n",
    "    xL :  x -coordinate of the left end of the element (real)\n",
    "    xR :  x -coordinate of the right end of the element (real)\n",
    "    E :   Young's modules ( E ) of the bar material which is taken as constant (real)\n",
    "    a0,a1,a2 : coefficients in (A=a0 + a1*x + a2*(x**2)) for the area of cross-section ( A ) of the bar (real)\n",
    "    f0,f1,f2 : coefficients in (f = f0 + f1*x + f2*x*x) for the distributed force ( f ) acting on the bar (real)\n",
    "\n",
    "    Output: [Kg, fg]\n",
    "    Kg : Global stiffness matrix (real)\n",
    "    fg : Global force vector (real)\n",
    "  =====================================================\n",
    "  \"\"\"\n",
    "\n",
    "  Kg=np.zeros((k*p+1,k*p+1))   #size of element matrix\n",
    "  h=xR - xL\n",
    "\n",
    "  [n, W,xis,ShapeValueXi,dShapeValueXi]=ShapeLegRoot(p)\n",
    "  fg=np.zeros(k*p+1)\n",
    "\n",
    "  for e in range(0,k*p,p):\n",
    "    #xL=N[e]\n",
    "    #xR=N[e+1]\n",
    "    for m in range(0,n):\n",
    "      xi=xis[m]\n",
    "      x = (xL+h*int(e/p))*(1 - z)/2 + (xR+h*int(e/p))*(1 + z)/2\n",
    "\n",
    "      EA = E*(a0 + a1*x+a2*(x**2))\n",
    "      EA = EA.subs(z,xi)\n",
    "\n",
    "      f = f0 + f1*x + f2*x*x\n",
    "      f=f.subs(z,xi)\n",
    "\n",
    "      for i in range(0, p+1):\n",
    "        fg[i+e] = fg[i+e] + f*ShapeValueXi[m][i]*(h/2)*W[m]\n",
    "\n",
    "        for j in range(0,p+1):\n",
    "          Kg[i+e][j+e] = Kg[i+e][j+e]+EA*dShapeValueXi[m][i]*dShapeValueXi[m][j]*(2/h)*W[m]\n",
    "\n",
    "  return [Kg, fg]"
   ]
  },
  {
   "cell_type": "code",
   "execution_count": 55,
   "metadata": {
    "ExecuteTime": {
     "end_time": "2021-08-03T16:03:46.950146Z",
     "start_time": "2021-08-03T16:03:46.779268Z"
    },
    "colab": {
     "base_uri": "https://localhost:8080/",
     "height": 0
    },
    "id": "La5nsVc2tzYW",
    "outputId": "c71f6883-bb03-4071-8f6a-aa3a11cf7f21"
   },
   "outputs": [
    {
     "name": "stdout",
     "output_type": "stream",
     "text": [
      "\n",
      "  =====================================================\n",
      "    Note: For elements of equal length\n",
      "\n",
      "    GlobalKfi(k,p,xL,xR,E,a0,a1=0,a2=0,f0=0,f1=0,f2=0)\n",
      "\n",
      "    k :   number of elements of same size (integer)\n",
      "    p :   order of approximation (integer)\n",
      "    xL :  x -coordinate of the left end of the element (real)\n",
      "    xR :  x -coordinate of the right end of the element (real)\n",
      "    E :   Young's modules ( E ) of the bar material which is taken as constant (real)\n",
      "    a0,a1,a2 : coefficients in (A=a0 + a1*x + a2*(x**2)) for the area of cross-section ( A ) of the bar (real)\n",
      "    f0,f1,f2 : coefficients in (f = f0 + f1*x + f2*x*x) for the distributed force ( f ) acting on the bar (real)\n",
      "\n",
      "    Output: [Kg, fg]\n",
      "    Kg : Global stiffness matrix (real)\n",
      "    fg : Global force vector (real)\n",
      "  =====================================================\n",
      "  \n"
     ]
    }
   ],
   "source": [
    "print(GlobalKfi.__doc__)"
   ]
  },
  {
   "cell_type": "markdown",
   "metadata": {
    "ExecuteTime": {
     "end_time": "2021-08-03T15:31:01.219327Z",
     "start_time": "2021-08-03T15:31:01.210326Z"
    }
   },
   "source": [
    "---"
   ]
  },
  {
   "cell_type": "markdown",
   "metadata": {
    "id": "Dv2MG8lLitAy"
   },
   "source": [
    "##### **Example:1**\n",
    "**Find Global stiffness matrix for each element and also find force vector due to distributed force.**\n",
    "Take shape function as 1st order of approximation(p=1)\n",
    "![Imgur](https://i.imgur.com/iGqOv8Q.jpg)"
   ]
  },
  {
   "cell_type": "markdown",
   "metadata": {
    "id": "2CtLEGsyjFU3"
   },
   "source": [
    "**Solution:**\n",
    "Local Stiffeness Matrices (alreday evaluated above)"
   ]
  },
  {
   "cell_type": "markdown",
   "metadata": {
    "id": "pBiLVa_-jLWX"
   },
   "source": [
    "Global Stiffeness Matrix\n",
    "1. Equal Elements Length (Methode-1)"
   ]
  },
  {
   "cell_type": "code",
   "execution_count": 56,
   "metadata": {
    "ExecuteTime": {
     "end_time": "2021-08-03T16:03:47.105720Z",
     "start_time": "2021-08-03T16:03:46.952827Z"
    },
    "colab": {
     "base_uri": "https://localhost:8080/",
     "height": 0
    },
    "id": "luH0lSEaPXpX",
    "outputId": "b3abad1b-3070-4ca0-fce3-7fb17252b241"
   },
   "outputs": [
    {
     "name": "stdout",
     "output_type": "stream",
     "text": [
      "Global Stiffness Matrix: \n",
      "\n",
      " [[ 16.5 -16.5   0.    0. ]\n",
      " [-16.5  30.  -13.5   0. ]\n",
      " [  0.  -13.5  24.  -10.5]\n",
      " [  0.    0.  -10.5  10.5]] \n",
      "\n",
      "\n",
      "Global Force Vector (due to distributed force):\n",
      "\n",
      "  [0.612 1.08  0.864 0.36 ]\n"
     ]
    }
   ],
   "source": [
    "[Kij, fi]=GlobalKfi(k=3,p=1,xL=0,xR=10,a0=6,a1=-0.1,a2=0,E=30,f0=0.1296,f1=-0.00216)\n",
    "print(\"Global Stiffness Matrix: \\n\\n\", Kij,\"\\n\\n\")\n",
    "print(\"Global Force Vector (due to distributed force):\\n\\n \", fi)"
   ]
  },
  {
   "cell_type": "markdown",
   "metadata": {
    "id": "CA42ETCPvppa"
   },
   "source": [
    "\n",
    "\n",
    "---\n",
    "\n"
   ]
  },
  {
   "cell_type": "markdown",
   "metadata": {
    "id": "l5rjI5arJbip"
   },
   "source": [
    "#### Function for Global (Elements of different Size or same size) $K_{ij}$ & $f_i$ if 1-D Bar (GlobalKfiU)\n",
    "\n",
    "\n",
    "*   NodesList=Nodes X- Cordinate as list\n",
    "*   k=Number of element\n",
    "*   here,K+1=length(NodesList)\n",
    "\n"
   ]
  },
  {
   "cell_type": "code",
   "execution_count": 57,
   "metadata": {
    "ExecuteTime": {
     "end_time": "2021-08-03T16:03:47.213810Z",
     "start_time": "2021-08-03T16:03:47.107690Z"
    },
    "id": "8H4cfZQLOaDD"
   },
   "outputs": [],
   "source": [
    "def GlobalKfiU(k,p,E,NodesList,a0,a1=0,a2=0,f0=0,f1=0,f2=0):\n",
    "\n",
    "  \"\"\"\n",
    "  =====================================================\n",
    "Note: For elements of unequal (or equal) length\n",
    "\n",
    "GlobalKfiU(k,p,E,NodesList,a0,a1=0,a2=0,f0=0,f1=0,f2=0)\n",
    "\n",
    "k :   number of elements (integer)\n",
    "p :   order of approximation (integer)\n",
    "NodesList:  [x0,x1,x2....xk] (X coordinates of nodes)\n",
    "E :   Young's modules ( E ) of the bar material which is taken as constant (real)\n",
    "a0,a1,a2 : coefficients in (A=a0 + a1*x + a2*(x**2)) for the area of cross-section ( A ) of the bar (real)\n",
    "f0,f1,f2 : coefficients in (f = f0 + f1*x + f2*x*x) for the distributed force ( f ) acting on the bar (real)\n",
    "\n",
    "Output: [Kg, fg]\n",
    "Kg : Globel stiffness matrix (real)\n",
    "fg : Globel force vector (real)\n",
    "  =====================================================\n",
    "  \"\"\"\n",
    "\n",
    "  Kg=np.zeros((k*p+1,k*p+1))                        #size of element matrix\n",
    "\n",
    "  [n, W,xis,ShapeValueXi,dShapeValueXi]=ShapeLegRoot(p)\n",
    "  fg=np.zeros(k*p+1)\n",
    "\n",
    "  for e in range(0,k*p,p):\n",
    "    xL=NodesList[int(e/p)]\n",
    "    xR=NodesList[int(e/p)+1]\n",
    "    h=xR - xL\n",
    "\n",
    "    for m in range(0,n):\n",
    "      xi=xis[m]\n",
    "      x = (xL)*(1 - z)/2 + (xR)*(1 + z)/2\n",
    "\n",
    "      EA = E*(a0 + a1*x+a2*(x**2))\n",
    "      EA = EA.subs(z,xi)\n",
    "\n",
    "      f = f0 + f1*x + f2*x*x\n",
    "      f=f.subs(z,xi)\n",
    "\n",
    "      for i in range(0, p+1):\n",
    "        fg[i+e] = fg[i+e] + f*ShapeValueXi[m][i]*(h/2)*W[m]\n",
    "\n",
    "        for j in range(0,p+1):\n",
    "          Kg[i+e][j+e] = Kg[i+e][j+e]+EA*dShapeValueXi[m][i]*dShapeValueXi[m][j]*(2/h)*W[m]\n",
    "\n",
    "  return [Kg, fg]"
   ]
  },
  {
   "cell_type": "code",
   "execution_count": 58,
   "metadata": {
    "ExecuteTime": {
     "end_time": "2021-08-03T16:03:47.309047Z",
     "start_time": "2021-08-03T16:03:47.215810Z"
    },
    "colab": {
     "base_uri": "https://localhost:8080/",
     "height": 0
    },
    "id": "AO7uI6x_vYbc",
    "outputId": "b5b55adc-bad0-429c-dfe6-9216fcdfbe15"
   },
   "outputs": [
    {
     "name": "stdout",
     "output_type": "stream",
     "text": [
      "\n",
      "  =====================================================\n",
      "Note: For elements of unequal (or equal) length\n",
      "\n",
      "GlobalKfiU(k,p,E,NodesList,a0,a1=0,a2=0,f0=0,f1=0,f2=0)\n",
      "\n",
      "k :   number of elements (integer)\n",
      "p :   order of approximation (integer)\n",
      "NodesList:  [x0,x1,x2....xk] (X coordinates of nodes)\n",
      "E :   Young's modules ( E ) of the bar material which is taken as constant (real)\n",
      "a0,a1,a2 : coefficients in (A=a0 + a1*x + a2*(x**2)) for the area of cross-section ( A ) of the bar (real)\n",
      "f0,f1,f2 : coefficients in (f = f0 + f1*x + f2*x*x) for the distributed force ( f ) acting on the bar (real)\n",
      "\n",
      "Output: [Kg, fg]\n",
      "Kg : Globel stiffness matrix (real)\n",
      "fg : Globel force vector (real)\n",
      "  =====================================================\n",
      "  \n"
     ]
    }
   ],
   "source": [
    "print(GlobalKfiU.__doc__)"
   ]
  },
  {
   "cell_type": "markdown",
   "metadata": {
    "ExecuteTime": {
     "end_time": "2021-08-03T15:31:01.219327Z",
     "start_time": "2021-08-03T15:31:01.210326Z"
    }
   },
   "source": [
    "---"
   ]
  },
  {
   "cell_type": "markdown",
   "metadata": {
    "id": "fWB8OplYKP4o"
   },
   "source": [
    "##### **Example:2**\n",
    "**Find Global stiffness matrix for each element and also find force vector due to distributed force.**\n",
    "(take p=1)\n",
    "*![Imgur](https://i.imgur.com/JlgVqxT.png)*"
   ]
  },
  {
   "cell_type": "markdown",
   "metadata": {
    "id": "P0d39HqqkQ5Y"
   },
   "source": [
    "**Solution**"
   ]
  },
  {
   "cell_type": "code",
   "execution_count": 59,
   "metadata": {
    "ExecuteTime": {
     "end_time": "2021-08-03T16:03:47.483284Z",
     "start_time": "2021-08-03T16:03:47.311762Z"
    },
    "colab": {
     "base_uri": "https://localhost:8080/",
     "height": 0
    },
    "id": "jA2YCacfE5Pt",
    "outputId": "cebb41ea-047f-4b7f-990f-6ed0065fc2f4"
   },
   "outputs": [
    {
     "name": "stdout",
     "output_type": "stream",
     "text": [
      "Global Stiffness Matrix: \n",
      "\n",
      " [[ 1020.83333333 -1020.83333333     0.        ]\n",
      " [-1020.83333333  1500.          -479.16666667]\n",
      " [    0.          -479.16666667   479.16666667]] \n",
      "\n",
      "\n",
      "Global Force Vector (due to distributed force):\n",
      "\n",
      "  [ 5. 20. 15.]\n"
     ]
    }
   ],
   "source": [
    "[Kij,fi]=GlobalKfiU(k=2,p=1,NodesList=[0,5,20],E=5000,a0=1,a1=0,a2=1/400,f0=2)\n",
    "print(\"Global Stiffness Matrix: \\n\\n\", Kij,\"\\n\\n\")\n",
    "print(\"Global Force Vector (due to distributed force):\\n\\n \", fi)"
   ]
  },
  {
   "cell_type": "markdown",
   "metadata": {
    "id": "Pz4PlDUboNDu"
   },
   "source": [
    "\n",
    "\n",
    "---\n",
    "\n"
   ]
  },
  {
   "cell_type": "markdown",
   "metadata": {
    "id": "HjL61MW9n98X"
   },
   "source": [
    "##### Example:1 (Method-2)"
   ]
  },
  {
   "cell_type": "code",
   "execution_count": 60,
   "metadata": {
    "ExecuteTime": {
     "end_time": "2021-08-03T16:03:47.594925Z",
     "start_time": "2021-08-03T16:03:47.486282Z"
    },
    "colab": {
     "base_uri": "https://localhost:8080/",
     "height": 0
    },
    "id": "QCkHmPyDoGbm",
    "outputId": "22546cfe-1952-4cd4-904b-ca53fb16eadd"
   },
   "outputs": [
    {
     "name": "stdout",
     "output_type": "stream",
     "text": [
      "Global Stiffness Matrix: \n",
      "\n",
      " [[ 16.5 -16.5   0.    0. ]\n",
      " [-16.5  30.  -13.5   0. ]\n",
      " [  0.  -13.5  24.  -10.5]\n",
      " [  0.    0.  -10.5  10.5]] \n",
      "\n",
      "\n",
      "Global Force Vector (due to distributed force):\n",
      "\n",
      "  [0.612 1.08  0.864 0.36 ]\n"
     ]
    }
   ],
   "source": [
    "[Kij,fi]=GlobalKfiU(k=3,p=1,NodesList=[0,10,20,30],a0=6,a1=-0.1,a2=0,E=30,f0=0.1296,f1=-0.00216) #global K,f\n",
    "print(\"Global Stiffness Matrix: \\n\\n\", Kij,\"\\n\\n\")\n",
    "print(\"Global Force Vector (due to distributed force):\\n\\n \", fi)"
   ]
  },
  {
   "cell_type": "markdown",
   "metadata": {
    "id": "zfXbPl2XGuXo"
   },
   "source": [
    "\n",
    "\n",
    "---\n",
    "\n"
   ]
  },
  {
   "cell_type": "markdown",
   "metadata": {},
   "source": [
    "## Future scope\n",
    "- Find unknown reaction force and displacement vector for any bar problem.\n",
    "- Code can be optimized for low latency."
   ]
  },
  {
   "cell_type": "markdown",
   "metadata": {},
   "source": [
    "---"
   ]
  }
 ],
 "metadata": {
  "colab": {
   "collapsed_sections": [],
   "name": "FEA_Bar_Report.ipynb",
   "provenance": []
  },
  "kernelspec": {
   "display_name": "Python 3",
   "language": "python",
   "name": "python3"
  },
  "language_info": {
   "codemirror_mode": {
    "name": "ipython",
    "version": 3
   },
   "file_extension": ".py",
   "mimetype": "text/x-python",
   "name": "python",
   "nbconvert_exporter": "python",
   "pygments_lexer": "ipython3",
   "version": "3.8.5"
  },
  "toc": {
   "base_numbering": 1,
   "nav_menu": {},
   "number_sections": true,
   "sideBar": true,
   "skip_h1_title": true,
   "title_cell": "Table of Contents",
   "title_sidebar": "Contents",
   "toc_cell": true,
   "toc_position": {
    "height": "calc(100% - 180px)",
    "left": "10px",
    "top": "150px",
    "width": "165px"
   },
   "toc_section_display": true,
   "toc_window_display": true
  },
  "varInspector": {
   "cols": {
    "lenName": 16,
    "lenType": 16,
    "lenVar": 40
   },
   "kernels_config": {
    "python": {
     "delete_cmd_postfix": "",
     "delete_cmd_prefix": "del ",
     "library": "var_list.py",
     "varRefreshCmd": "print(var_dic_list())"
    },
    "r": {
     "delete_cmd_postfix": ") ",
     "delete_cmd_prefix": "rm(",
     "library": "var_list.r",
     "varRefreshCmd": "cat(var_dic_list()) "
    }
   },
   "types_to_exclude": [
    "module",
    "function",
    "builtin_function_or_method",
    "instance",
    "_Feature"
   ],
   "window_display": false
  }
 },
 "nbformat": 4,
 "nbformat_minor": 1
}
