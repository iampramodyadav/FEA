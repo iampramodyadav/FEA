{
  "nbformat": 4,
  "nbformat_minor": 0,
  "metadata": {
    "colab": {
      "name": "FEA_1D_Element.ipynb",
      "provenance": [],
      "collapsed_sections": [],
      "authorship_tag": "ABX9TyP0f6rNaHpeSwC2lqpwQ/bf",
      "include_colab_link": true
    },
    "kernelspec": {
      "name": "python3",
      "display_name": "Python 3"
    },
    "language_info": {
      "name": "python"
    }
  },
  "cells": [
    {
      "cell_type": "markdown",
      "metadata": {
        "id": "view-in-github",
        "colab_type": "text"
      },
      "source": [
        "<a href=\"https://colab.research.google.com/github/iampramodyadav/FEA/blob/main/FEA_1D_Element.ipynb\" target=\"_parent\"><img src=\"https://colab.research.google.com/assets/colab-badge.svg\" alt=\"Open In Colab\"/></a>"
      ]
    },
    {
      "cell_type": "markdown",
      "metadata": {
        "id": "gqpSYvPPF1gG"
      },
      "source": [
        "<h1><div align=\"center\">\n",
        "  Finite Element Analysis (1-D Elements)\n",
        "</div><h1>\n"
      ]
    },
    {
      "cell_type": "markdown",
      "metadata": {
        "id": "vEca02VvHfUj"
      },
      "source": [
        "<div align=\"center\">\n",
        "  Pramod Kumar Yadav\n",
        "  @iampramodyadav\n",
        "</div>"
      ]
    },
    {
      "cell_type": "markdown",
      "metadata": {
        "id": "-2mSttfm63Mk"
      },
      "source": [
        "\n",
        "\n",
        "---\n",
        "![Imgur](https://i.imgur.com/nTr2w2q.jpg \"FEA integration Flow Chart\")"
      ]
    },
    {
      "cell_type": "markdown",
      "metadata": {
        "id": "_2MK_29TARpu"
      },
      "source": [
        "# Natural Coordinate: Shape Funtion and its derivative\n",
        "\n",
        "Pramod Kumar Yadav (@iampramodyadav)\n"
      ]
    },
    {
      "cell_type": "markdown",
      "metadata": {
        "id": "bSmr8-saAng4"
      },
      "source": [
        "\n",
        "\n",
        "---\n",
        "\n"
      ]
    },
    {
      "cell_type": "markdown",
      "metadata": {
        "id": "Cfy57O55AoGh"
      },
      "source": [
        "- This programme calculates the values of shape functions and their derivatives.\n",
        "- plot the shape funtions\n",
        "\n",
        "\n"
      ]
    },
    {
      "cell_type": "markdown",
      "metadata": {
        "id": "nNNR_t2AClKo"
      },
      "source": [
        "## Function for shape function\n",
        "- [Nptel Reference](https://nptel.ac.in/content/storage2/courses/112104116/lecture-11/11_10.htm)\n",
        "- [SymPy Documentation](https://docs.sympy.org/latest/tutorial/basic_operations.html)\n",
        "\n",
        "- **Shape Functions in Natural Coordinate**\n",
        "  - ![](https://i.imgur.com/1iBlgQQ.png)\n",
        "  -Here,Approximation of Order p, \n",
        "  - physical coordinate ($x$) and natural coordinate $\\xi$ (here, z)"
      ]
    },
    {
      "cell_type": "code",
      "metadata": {
        "id": "h8JHzJ1h-4uE"
      },
      "source": [
        "from sympy import *\n",
        "import numpy as np"
      ],
      "execution_count": 1,
      "outputs": []
    },
    {
      "cell_type": "code",
      "metadata": {
        "id": "hmGgGf21xCQp"
      },
      "source": [
        "z=Symbol('z')"
      ],
      "execution_count": 2,
      "outputs": []
    },
    {
      "cell_type": "code",
      "metadata": {
        "id": "aQ0xX1rp6vkl"
      },
      "source": [
        "def SHAPE(p):\n",
        "  '''\n",
        "  =====================================================\n",
        "  SHAPE(p)\n",
        "  p:  order (p) of approximation\n",
        "  z:  value of natural coordinate\n",
        "  This function return shape funtions values at given p\n",
        "  =====================================================\n",
        "  '''\n",
        "  z=Symbol('z')\n",
        "  n=[]\n",
        "\n",
        "  for i in range(0, p+1):\n",
        "    point=-1\n",
        "    point=point+2*i/p\n",
        "    n.append(point)\n",
        "\n",
        "  shape=[1]*(p+1)\n",
        "\n",
        "  for i in range(0,p+1):\n",
        "    for j in range(0,p+1):\n",
        "      if i!=j:\n",
        "        shape[i]=shape[i]*((z-n[j])/(n[i]-n[j]))\n",
        "\n",
        "  return shape"
      ],
      "execution_count": 3,
      "outputs": []
    },
    {
      "cell_type": "code",
      "metadata": {
        "colab": {
          "base_uri": "https://localhost:8080/"
        },
        "id": "isx1y8ImJHXN",
        "outputId": "4a873c56-1c82-472c-8820-23bda536ebf4"
      },
      "source": [
        "print(SHAPE.__doc__)"
      ],
      "execution_count": 4,
      "outputs": [
        {
          "output_type": "stream",
          "text": [
            "\n",
            "  =====================================================\n",
            "  SHAPE(p)\n",
            "  p:  order (p) of approximation\n",
            "  z:  value of natural coordinate\n",
            "  This function return shape funtions values at given p\n",
            "  =====================================================\n",
            "  \n"
          ],
          "name": "stdout"
        }
      ]
    },
    {
      "cell_type": "markdown",
      "metadata": {
        "id": "UXF0zmrmv9pe"
      },
      "source": [
        "\n",
        "\n",
        "---\n",
        "\n"
      ]
    },
    {
      "cell_type": "markdown",
      "metadata": {
        "id": "bfkRt4ztCbE3"
      },
      "source": [
        "## Function for derivative of shape function\n",
        "- [SymPy Documentation](https://docs.sympy.org/latest/tutorial/calculus.html)\n",
        "- [Reference](https://stackoverflow.com/questions/47998930/differentiation-of-a-list-of-functions-with-respect-to-a-list-of-variables)\n",
        "\n"
      ]
    },
    {
      "cell_type": "code",
      "metadata": {
        "id": "qNIvKJpU9XC4"
      },
      "source": [
        "def dSHAPE(p):\n",
        "  '''\n",
        "  =====================================================\n",
        "  dSHAPE(p)\n",
        "  p:  order (p) of approximation\n",
        "\n",
        "  z:  natural coordinate variable\n",
        "  This function return derivative of shape funtions values at given p\n",
        "  =====================================================\n",
        "  '''  \n",
        "  z=Symbol('z')\n",
        "  f=SHAPE(p)\n",
        "  z=symbols('z')\n",
        "  return [simplify(diff(f1)) for f1 in f]"
      ],
      "execution_count": 5,
      "outputs": []
    },
    {
      "cell_type": "code",
      "metadata": {
        "colab": {
          "base_uri": "https://localhost:8080/"
        },
        "id": "KS71C1kLJS3A",
        "outputId": "5d36f9ac-084e-48df-e770-bd203b826156"
      },
      "source": [
        "print(dSHAPE.__doc__)"
      ],
      "execution_count": 6,
      "outputs": [
        {
          "output_type": "stream",
          "text": [
            "\n",
            "  =====================================================\n",
            "  dSHAPE(p)\n",
            "  p:  order (p) of approximation\n",
            "\n",
            "  z:  natural coordinate variable\n",
            "  This function return derivative of shape funtions values at given p\n",
            "  =====================================================\n",
            "  \n"
          ],
          "name": "stdout"
        }
      ]
    },
    {
      "cell_type": "markdown",
      "metadata": {
        "id": "lTq4GI5yHdqz"
      },
      "source": [
        "\n",
        "\n",
        "---\n",
        "\n"
      ]
    },
    {
      "cell_type": "code",
      "metadata": {
        "colab": {
          "base_uri": "https://localhost:8080/"
        },
        "id": "gxNwwRm-9qWx",
        "outputId": "8ee1061d-4f9f-43d3-f011-b8afa94b4123"
      },
      "source": [
        "df=dSHAPE(3)\n",
        "print('Derivative of shape function:\\n',df)"
      ],
      "execution_count": 7,
      "outputs": [
        {
          "output_type": "stream",
          "text": [
            "Derivative of shape function:\n",
            " [-1.6875*z**2 + 1.125*z + 0.0625000000000001, 5.0625*z**2 - 1.125*z - 1.6875, -5.0625*z**2 - 1.125*z + 1.6875, 1.6875*z**2 + 1.125*z - 0.0624999999999999]\n"
          ],
          "name": "stdout"
        }
      ]
    },
    {
      "cell_type": "code",
      "metadata": {
        "colab": {
          "base_uri": "https://localhost:8080/"
        },
        "id": "RmbkW913sTjn",
        "outputId": "d2175125-44a3-44d8-ec83-4932ad456959"
      },
      "source": [
        "f=SHAPE(3)\n",
        "print('Shape funtion:\\n',f ,'\\n')\n",
        "\n",
        "print('Simplified shape funtion:\\n',[simplify(f1) for f1 in f])"
      ],
      "execution_count": 8,
      "outputs": [
        {
          "output_type": "stream",
          "text": [
            "Shape funtion:\n",
            " [(0.25 - 0.75*z)*(0.5 - 0.5*z)*(-1.5*z - 0.5), (0.5 - 1.5*z)*(0.75 - 0.75*z)*(1.5*z + 1.5), (1.5 - 1.5*z)*(0.75*z + 0.75)*(1.5*z + 0.5), (0.5*z + 0.5)*(0.75*z + 0.25)*(1.5*z - 0.5)] \n",
            "\n",
            "Simplified shape funtion:\n",
            " [-0.5625*z**3 + 0.5625*z**2 + 0.0625*z - 0.0625, 1.125*(z - 1)*(z + 1)*(1.5*z - 0.5), -1.125*(z - 1)*(z + 1)*(1.5*z + 0.5), 0.5*(0.75*z + 0.25)*(z + 1)*(1.5*z - 0.5)]\n"
          ],
          "name": "stdout"
        }
      ]
    },
    {
      "cell_type": "code",
      "metadata": {
        "colab": {
          "base_uri": "https://localhost:8080/",
          "height": 38
        },
        "id": "Pt-yuuF4-iZa",
        "outputId": "7d0fe4c2-3c3d-4ce7-c819-fd8c81e92be6"
      },
      "source": [
        "simplify(f[0]) #first term"
      ],
      "execution_count": 9,
      "outputs": [
        {
          "output_type": "execute_result",
          "data": {
            "text/latex": "$\\displaystyle - 0.5625 z^{3} + 0.5625 z^{2} + 0.0625 z - 0.0625$",
            "text/plain": [
              "-0.5625*z**3 + 0.5625*z**2 + 0.0625*z - 0.0625"
            ]
          },
          "metadata": {
            "tags": []
          },
          "execution_count": 9
        }
      ]
    },
    {
      "cell_type": "code",
      "metadata": {
        "colab": {
          "base_uri": "https://localhost:8080/",
          "height": 38
        },
        "id": "WtaElDAN-qrK",
        "outputId": "4ca42021-6c5d-499d-a9ad-433b9a755753"
      },
      "source": [
        "df[0] #deruvative of first term"
      ],
      "execution_count": 10,
      "outputs": [
        {
          "output_type": "execute_result",
          "data": {
            "text/latex": "$\\displaystyle - 1.6875 z^{2} + 1.125 z + 0.0625000000000001$",
            "text/plain": [
              "-1.6875*z**2 + 1.125*z + 0.0625000000000001"
            ]
          },
          "metadata": {
            "tags": []
          },
          "execution_count": 10
        }
      ]
    },
    {
      "cell_type": "markdown",
      "metadata": {
        "id": "c86Z-7RaHfQr"
      },
      "source": [
        "\n",
        "\n",
        "---\n",
        "\n"
      ]
    },
    {
      "cell_type": "markdown",
      "metadata": {
        "id": "25tTI8mRDMl1"
      },
      "source": [
        "## Visualization: Plotting shape functions"
      ]
    },
    {
      "cell_type": "code",
      "metadata": {
        "id": "yU3mj1JJ5AVS"
      },
      "source": [
        "import seaborn as sns"
      ],
      "execution_count": 11,
      "outputs": []
    },
    {
      "cell_type": "code",
      "metadata": {
        "id": "Hggl-zn206Zl"
      },
      "source": [
        "def plotSHAPE(p):\n",
        "  '''\n",
        "  =====================================================\n",
        "  plotSHAPE(p)\n",
        "\n",
        "  p: order (p) of approximation\n",
        "  z:value of natural coordinate\n",
        "  This function return plot of shape funtions (Natural Coordinate)\n",
        "  =====================================================\n",
        "  '''\n",
        "  sns.set()\n",
        "  sns.set_style(\"whitegrid\", {'grid.linestyle': '--'})\n",
        "\n",
        "  z=Symbol('z')\n",
        "  f=SHAPE(p)\n",
        "  p1=plot(0,(z,-1,1),show=False)\n",
        "  for i in f:\n",
        "    p2=plot(i,(z,-1,1),show=False)\n",
        "    p1.append(p2[0])\n",
        "\n",
        "  return p1.show()"
      ],
      "execution_count": 12,
      "outputs": []
    },
    {
      "cell_type": "code",
      "metadata": {
        "colab": {
          "base_uri": "https://localhost:8080/"
        },
        "id": "9VMorXlrJZ8q",
        "outputId": "27435fe9-7dee-4b2f-cbc1-f19fffd6e0df"
      },
      "source": [
        "print(plotSHAPE.__doc__)"
      ],
      "execution_count": 13,
      "outputs": [
        {
          "output_type": "stream",
          "text": [
            "\n",
            "  =====================================================\n",
            "  plotSHAPE(p)\n",
            "\n",
            "  p: order (p) of approximation\n",
            "  z:value of natural coordinate\n",
            "  This function return plot of shape funtions (Natural Coordinate)\n",
            "  =====================================================\n",
            "  \n"
          ],
          "name": "stdout"
        }
      ]
    },
    {
      "cell_type": "code",
      "metadata": {
        "colab": {
          "base_uri": "https://localhost:8080/",
          "height": 293
        },
        "id": "BxgXja5c4mzL",
        "outputId": "30435c99-5e04-4bd4-d253-6d8f4cb58294"
      },
      "source": [
        "plotSHAPE(1)"
      ],
      "execution_count": 14,
      "outputs": [
        {
          "output_type": "display_data",
          "data": {
            "image/png": "[encoded data removed]",
            "text/plain": [
              "<Figure size 432x288 with 1 Axes>"
            ]
          },
          "metadata": {
            "tags": []
          }
        }
      ]
    },
    {
      "cell_type": "code",
      "metadata": {
        "colab": {
          "base_uri": "https://localhost:8080/",
          "height": 289
        },
        "id": "tjS_xLb75Z3D",
        "outputId": "097243a3-6780-419c-8983-aeeaea2c67cf"
      },
      "source": [
        "plotSHAPE(2)"
      ],
      "execution_count": 15,
      "outputs": [
        {
          "output_type": "display_data",
          "data": {
            "image/png": "[encoded data removed]",
            "text/plain": [
              "<Figure size 432x288 with 1 Axes>"
            ]
          },
          "metadata": {
            "tags": []
          }
        }
      ]
    },
    {
      "cell_type": "code",
      "metadata": {
        "id": "I1CCTOEMHrYU"
      },
      "source": [
        "plotSHAPE(3)"
      ],
      "execution_count": null,
      "outputs": []
    },
    {
      "cell_type": "code",
      "metadata": {
        "id": "hT-3-eTcHsRV"
      },
      "source": [
        "plotSHAPE(4)"
      ],
      "execution_count": null,
      "outputs": []
    },
    {
      "cell_type": "code",
      "metadata": {
        "id": "bqlQmBHq8YHA"
      },
      "source": [
        "import matplotlib.pyplot as plt\n",
        "\n",
        "plt.rcParams['figure.figsize'] = 14, 8\n",
        "plotSHAPE(5)"
      ],
      "execution_count": null,
      "outputs": []
    },
    {
      "cell_type": "markdown",
      "metadata": {
        "id": "aq4deDyPDgqi"
      },
      "source": [
        "\n",
        "\n",
        "---\n",
        "\n"
      ]
    },
    {
      "cell_type": "markdown",
      "metadata": {
        "id": "I_IaCaxwaM7C"
      },
      "source": [
        "# Gauss-Legendre Quadrature implementation in Python\n",
        "Pramod Kumar Yadav (@iampramodyadav)"
      ]
    },
    {
      "cell_type": "markdown",
      "metadata": {
        "id": "-oKr32FrbA_H"
      },
      "source": [
        "\n",
        "\n",
        "---\n",
        "\n"
      ]
    },
    {
      "cell_type": "markdown",
      "metadata": {
        "id": "vhc93Te5U7N8"
      },
      "source": [
        "\n",
        "* [Gaussian quadrature](https://en.wikipedia.org/wiki/Gaussian_quadrature)\n",
        "\n",
        "* [Legendre polynomials](https://en.wikipedia.org/wiki/Legendre_polynomials#Recurrence_relations)\n",
        "\n",
        "* [Newton–Raphson method](https://en.wikipedia.org/wiki/Newton%27s_method)\n",
        "\n",
        "\n",
        "* **Gaussian quadrature Rule**\n",
        "\n",
        "$${\\displaystyle \\int _{-1}^{1}f(x)\\,dx\\approx \\sum _{i=1}^{n}w_{i}f(x_{i})}$$\n",
        "\n",
        "* **Bonnet’s recursion formula for Legendre Polynomial**\n",
        "\n",
        "    * $$\\boxed{\\displaystyle (n+1)P_{n+1}(x)=(2n+1)xP_{n}(x)-nP_{n-1}(x)}$$\n",
        "\n",
        "    * $${\\displaystyle P_{0}(x)=1\\,}$$\n",
        "\n",
        "    * $${\\displaystyle\\quad P_{1}(x)=x}$$\n",
        "\n",
        "* Recursive equation for derivative of Legendre Polynomial:\n",
        "  * $$\\boxed{\\displaystyle {\\frac {x^{2}-1}{n}}{\\frac {d}{dx}}P_{n}(x)=xP_{n}(x)-P_{n-1}(x)\\,}$$\n",
        "\n",
        "* The $i-th$ Gauss node, $x_i$, is the $i-th$ root of $P_n$ and the weights are given by the formula (Abramowitz & Stegun 1972)\n",
        "\n",
        "$$\\boxed{\\displaystyle w_{i}={\\frac {2}{\\left(1-x_{i}^{2}\\right)\\left[P'_{n}(x_{i})\\right]^{2}}}.}$$\n",
        "* Newton–Raphson method\n",
        "\n",
        "$${\\displaystyle x_{1}=x_{0}-{\\frac {f(x_{0})}{f'(x_{0})}}}$$\n",
        "\n",
        "* The first guess ${\\displaystyle x_{0}}$ for the ${\\displaystyle i}$-th root of a ${\\displaystyle n}$-order polynomial ${\\displaystyle P_{n}}$ can be given by\n",
        "\n",
        "\n",
        "$${\\displaystyle x_{0}=\\cos \\left({\\frac {\\pi (i-1/4)}{n+1/2}}\\right)}$$\n",
        "\n"
      ]
    },
    {
      "cell_type": "markdown",
      "metadata": {
        "id": "C5UshuFRVk5Q"
      },
      "source": [
        "## Legendre Polynomial (symbolic)\n",
        "\n",
        "[SymPy Documentation](https://docs.sympy.org/latest/tutorial/basic_operations.html)\n",
        "\n",
        "\n"
      ]
    },
    {
      "cell_type": "code",
      "metadata": {
        "id": "YlA4hfdfLgRC"
      },
      "source": [
        "from sympy import *\n",
        "import numpy as np"
      ],
      "execution_count": null,
      "outputs": []
    },
    {
      "cell_type": "code",
      "metadata": {
        "id": "iS0D9PtRL_Oj"
      },
      "source": [
        "x=symbols('x')"
      ],
      "execution_count": null,
      "outputs": []
    },
    {
      "cell_type": "code",
      "metadata": {
        "id": "q5sq4wQDL0vJ"
      },
      "source": [
        "def Legendre(n):\n",
        "  \"\"\"\n",
        "  =====================================================\n",
        "  n: Order of polynomial\n",
        "  x: Variable\n",
        "  This function print Legendre polynomial of order n (Symbolic)\n",
        "  =====================================================\n",
        "  \"\"\"\n",
        "\n",
        "  x=symbols('x')\n",
        "  if (n==0):\n",
        "    return x*0+1.0\n",
        "  elif (n==1):\n",
        "    return x\n",
        "  else:\n",
        "    return ((2.0*n-1.0)*x*Legendre(n-1)-(n-1)*Legendre(n-2))/n"
      ],
      "execution_count": null,
      "outputs": []
    },
    {
      "cell_type": "code",
      "metadata": {
        "id": "yBovgMiWGtBM"
      },
      "source": [
        "print(Legendre.__doc__)"
      ],
      "execution_count": null,
      "outputs": []
    },
    {
      "cell_type": "code",
      "metadata": {
        "id": "3wkk0fKZMI5x"
      },
      "source": [
        "Legendre(2)"
      ],
      "execution_count": null,
      "outputs": []
    },
    {
      "cell_type": "markdown",
      "metadata": {
        "id": "Xw-_Vlt5bUPn"
      },
      "source": [
        "## Derivative of the Legendre polynomials\n",
        "[Reference](https://en.wikipedia.org/wiki/Legendre_polynomials#Recurrence_relations)\n",
        "\n",
        "$$\\boxed{\\displaystyle {\\frac {x^{2}-1}{n}}{\\frac {d}{dx}}P_{n}(x)=xP_{n}(x)-P_{n-1}(x)\\,}$$"
      ]
    },
    {
      "cell_type": "code",
      "metadata": {
        "id": "jZSDWnM9MVII"
      },
      "source": [
        "def DLegendre(n):\n",
        "  \"\"\"\n",
        "  =====================================================\n",
        "  n: Order of polynomial\n",
        "  x: Variable\n",
        "  This function print Derivative of Legendre polynomial of order n  (Symbolic)\n",
        "  =====================================================\n",
        "  \"\"\"\n",
        "  x=symbols('x')\n",
        "  if (n==0):\n",
        "    return x*0\n",
        "  elif (n==1):\n",
        "    return x*0+1.0\n",
        "  else:\n",
        "    return (n/(x**2-1.0))*(x*Legendre(n)-Legendre(n-1))"
      ],
      "execution_count": null,
      "outputs": []
    },
    {
      "cell_type": "code",
      "metadata": {
        "id": "T_VpnDv9HAO4"
      },
      "source": [
        "print(DLegendre.__doc__)"
      ],
      "execution_count": null,
      "outputs": []
    },
    {
      "cell_type": "code",
      "metadata": {
        "id": "JTbjniKiMctA"
      },
      "source": [
        "simplify(DLegendre(2))"
      ],
      "execution_count": null,
      "outputs": []
    },
    {
      "cell_type": "markdown",
      "metadata": {
        "id": "dIli9J1fbctm"
      },
      "source": [
        "## Plot Legendre Polynomial"
      ]
    },
    {
      "cell_type": "code",
      "metadata": {
        "id": "GkzurmUAOBRN"
      },
      "source": [
        "f=Legendre(3)"
      ],
      "execution_count": null,
      "outputs": []
    },
    {
      "cell_type": "code",
      "metadata": {
        "id": "o_qaA6AtOVqw"
      },
      "source": [
        "from matplotlib import style\n",
        "import matplotlib.pyplot as plt\n",
        "%matplotlib inline\n",
        "plt.rcParams['figure.figsize'] = 14, 8\n",
        "style.use('ggplot')\n",
        "plot(f,(x,-1,1),legend=True)"
      ],
      "execution_count": null,
      "outputs": []
    },
    {
      "cell_type": "code",
      "metadata": {
        "id": "F3Udo4BrfMVx"
      },
      "source": [
        "f1=Legendre(1)\n",
        "f2=simplify(Legendre(3))"
      ],
      "execution_count": null,
      "outputs": []
    },
    {
      "cell_type": "code",
      "metadata": {
        "id": "mofGJ9otfict"
      },
      "source": [
        "pl=plot(f1,f2,(x,-1,1),legend=True,show=False)\n",
        "pl[0].line_color = 'red'\n",
        "pl[1].line_color = 'green'\n",
        "pl.show()"
      ],
      "execution_count": null,
      "outputs": []
    },
    {
      "cell_type": "code",
      "metadata": {
        "id": "CopwiC8cQgJQ"
      },
      "source": [
        "plot(Legendre(1),Legendre(2),Legendre(3),Legendre(4),Legendre(5),(x,-1,1))"
      ],
      "execution_count": null,
      "outputs": []
    },
    {
      "cell_type": "code",
      "metadata": {
        "id": "--qTqR-ERl71"
      },
      "source": [
        "import seaborn as sns\n",
        "sns.set()\n",
        "sns.set_style(\"whitegrid\", {'grid.linestyle': '--'})\n",
        "p=plot(Legendre(1),Legendre(2),Legendre(3),Legendre(4),Legendre(5),(x,-1,1),title='Legendre PolyNomial',show=False);\n",
        "p[0].line_color = 'red'\n",
        "p[1].line_color = 'green'\n",
        "p[2].line_color = 'yellow'\n",
        "p[3].line_color = ['b','r']\n",
        "p.figsize=(14, 8)\n",
        "p.show()"
      ],
      "execution_count": null,
      "outputs": []
    },
    {
      "cell_type": "markdown",
      "metadata": {
        "id": "C2COlaWlgxXg"
      },
      "source": [
        "## Legedre Roots\n",
        "* the $i-th$ Gauss node, $x_i$, is the $i-th$ root of $P_n$ and the weights are given by the formula (Abramowitz & Stegun 1972)\n",
        "\n",
        "$${\\displaystyle w_{i}={\\frac {2}{\\left(1-x_{i}^{2}\\right)\\left[P'_{n}(x_{i})\\right]^{2}}}.}$$\n",
        "\n",
        "\n",
        "* The first guess ${\\displaystyle x_{0}}$ for the ${\\displaystyle i}$-th root of a ${\\displaystyle n}$-order polynomial ${\\displaystyle P_{n}}$ can be given by\n",
        "$${\\displaystyle x_{0}=\\cos \\left({\\frac {\\pi (i-1/4)}{n+1/2}}\\right)}$$\n",
        "\n",
        "* Newton–Raphson method\n",
        "\n",
        "$${\\displaystyle x_{1}=x_{0}-{\\frac {f(x_{0})}{f'(x_{0})}}}$$"
      ]
    },
    {
      "cell_type": "code",
      "metadata": {
        "id": "kfD87rI5HrN0"
      },
      "source": [
        "def LegendreRoots(polyorder,tolerance=1e-20):\n",
        "  \"\"\"\n",
        "  =====================================================\n",
        "  LegendreRoots(polyorder,tolerance=1e-20)\n",
        "\n",
        "  polyorder: Order of polynomial(>2)\n",
        "  tolerance: tolerance of error (default: 1e-20)\n",
        "  Output: [roots, err]\n",
        "  This function return Roots of Legendre polynomial\n",
        "  =====================================================\n",
        "  \"\"\"\n",
        "  if polyorder<2:\n",
        "    err=1\n",
        "                                                      # bad polyorder no roots can be found\n",
        "  else:\n",
        "    roots=[]\n",
        "\t\t                                                  # The polynomials are alternately even and odd functions. \n",
        "                                                      # So we evaluate only half the number of roots. \n",
        "    for i in range(1,int((polyorder)/2) +1):\n",
        "      x1=cos(pi*(i-0.25)/(polyorder+0.5))\n",
        "      error=10*tolerance\n",
        "      iters=0\n",
        "\n",
        "      while (error>tolerance) and (iters<1000):\n",
        "        dx=-Legendre(polyorder)/DLegendre(polyorder)\n",
        "        dx=N(dx.subs(x,x1))\n",
        "        x1=N(x1+dx)\n",
        "        iters=iters+1\n",
        "        error=abs(dx)\n",
        "\n",
        "      #print(roots)\n",
        "      roots.append(x1)\n",
        "      #print(roots)\n",
        "\t\t                                                            # Use symmetry to get the other roots\n",
        "    roots=np.array(roots)\n",
        "    if polyorder%2==0:\n",
        "      roots=np.concatenate( (-1.0*roots, roots[::-1]) )\n",
        "\n",
        "    else:\n",
        "      roots=np.concatenate( (-1.0*roots, [0.0], roots[::-1]) )\n",
        "\n",
        "    err=0\n",
        "                                                           # successfully determined roots\n",
        "  return [roots, err]"
      ],
      "execution_count": null,
      "outputs": []
    },
    {
      "cell_type": "code",
      "metadata": {
        "id": "2MIVtFHEHzkS"
      },
      "source": [
        "print(LegendreRoots.__doc__)"
      ],
      "execution_count": null,
      "outputs": []
    },
    {
      "cell_type": "code",
      "metadata": {
        "id": "bNxRGVmOIIWm"
      },
      "source": [
        "LegendreRoots(5)"
      ],
      "execution_count": null,
      "outputs": []
    },
    {
      "cell_type": "code",
      "metadata": {
        "id": "d3_BugGBqB6v"
      },
      "source": [
        "LegendreRoots(2)"
      ],
      "execution_count": null,
      "outputs": []
    },
    {
      "cell_type": "markdown",
      "metadata": {
        "id": "ZITxjIGbg3cV"
      },
      "source": [
        "## Weight Coefficient"
      ]
    },
    {
      "cell_type": "code",
      "metadata": {
        "id": "rVK228HyVRJi"
      },
      "source": [
        "def GaussLegendreWeights(polyorder):\n",
        "  \"\"\"\n",
        "  =====================================================\n",
        "  GaussLegendreWeights(polyorder)\n",
        "\n",
        "  polyorder: Order of polynomial\n",
        "  Output: [W, xis, err]\n",
        "  This function return Weights(W) and Roots(xis) of Legendre polynomial\n",
        "  =====================================================\n",
        "  \"\"\"\n",
        "  W=[]\n",
        "  [xis,err]=LegendreRoots(polyorder)\n",
        "  xis=list(xis)\n",
        "  if err==0:\n",
        "    for x1 in xis:\n",
        "      w=2.0/( (1.0-x**2)*(DLegendre(polyorder)**2) )\n",
        "      w=w.subs(x,x1)\n",
        "      W.append(w)\n",
        "      err=0\n",
        "  else:\n",
        "    err=1 # could not determine roots - so no weights\n",
        "  return [W, xis, err]"
      ],
      "execution_count": null,
      "outputs": []
    },
    {
      "cell_type": "code",
      "metadata": {
        "id": "piAETldfIrcl"
      },
      "source": [
        "print(GaussLegendreWeights.__doc__)"
      ],
      "execution_count": null,
      "outputs": []
    },
    {
      "cell_type": "code",
      "metadata": {
        "colab": {
          "base_uri": "https://localhost:8080/"
        },
        "id": "fRE3q2wEqblR",
        "outputId": "aa9eee5a-0400-4cf8-90e1-665091b10b29"
      },
      "source": [
        "GaussLegendreWeights(2)"
      ],
      "execution_count": 39,
      "outputs": [
        {
          "output_type": "execute_result",
          "data": {
            "text/plain": [
              "[[1.00000000000000, 1.00000000000000],\n",
              " [-0.577350269189626, 0.577350269189626],\n",
              " 0]"
            ]
          },
          "metadata": {
            "tags": []
          },
          "execution_count": 0
        }
      ]
    },
    {
      "cell_type": "markdown",
      "metadata": {
        "id": "BtoGH10ujKbq"
      },
      "source": [
        "## Function Plot Legendre Polynomial"
      ]
    },
    {
      "cell_type": "code",
      "metadata": {
        "id": "DeTd4dlxjJ0j"
      },
      "source": [
        "def PlotLegendre(polyorder):\n",
        "  \"\"\"\n",
        "  =====================================================\n",
        "  PlotLegendre(polyorder)\n",
        "\n",
        "  This function plot legendre plynomial\n",
        "  =====================================================\n",
        "  \"\"\"\n",
        "  sns.set()\n",
        "  sns.set_style(\"whitegrid\", {'grid.linestyle': '--'})\n",
        "  plot(Legendre(polyorder),(x,-1,1))\n"
      ],
      "execution_count": 40,
      "outputs": []
    },
    {
      "cell_type": "code",
      "metadata": {
        "colab": {
          "base_uri": "https://localhost:8080/",
          "height": 581
        },
        "id": "VD43UzPsj4rb",
        "outputId": "b8744a16-b766-40eb-8914-768fab9c345c"
      },
      "source": [
        "PlotLegendre(2)"
      ],
      "execution_count": 41,
      "outputs": [
        {
          "output_type": "display_data",
          "data": {
            "image/png": "[encoded data removed]",
            "text/plain": [
              "<Figure size 1008x576 with 1 Axes>"
            ]
          },
          "metadata": {
            "tags": []
          }
        }
      ]
    },
    {
      "cell_type": "markdown",
      "metadata": {
        "id": "sVOFuHAFg_n7"
      },
      "source": [
        "## Final Result"
      ]
    },
    {
      "cell_type": "code",
      "metadata": {
        "colab": {
          "base_uri": "https://localhost:8080/",
          "height": 1000
        },
        "id": "lwFGgZFHVehY",
        "outputId": "d2c869d0-12dd-4a29-a8cf-3b11e328ad3f"
      },
      "source": [
        "for Polyorder in range(2,7):\n",
        "  plt.rcParams['figure.figsize'] = 6.4, 4.8\n",
        "  plot(Legendre(Polyorder),(x,-1,1))\n",
        "\n",
        "  [W, xis, err]=GaussLegendreWeights(Polyorder)\n",
        "  print(\"order:\", Polyorder)\n",
        "  print(\"Weights:\", W)\n",
        "  print (\"Roots    : \",xis)\n",
        "\n",
        "  print('='*110)\n",
        "  print('\\n\\n')\n",
        "  print('='*110)"
      ],
      "execution_count": 42,
      "outputs": [
        {
          "output_type": "display_data",
          "data": {
            "image/png": "[encoded data removed]",
            "text/plain": [
              "<Figure size 460.8x345.6 with 1 Axes>"
            ]
          },
          "metadata": {
            "tags": []
          }
        },
        {
          "output_type": "stream",
          "text": [
            "order: 2\n",
            "Weights: [1.00000000000000, 1.00000000000000]\n",
            "Roots    :  [-0.577350269189626, 0.577350269189626]\n",
            "==============================================================================================================\n",
            "\n",
            "\n",
            "\n",
            "==============================================================================================================\n"
          ],
          "name": "stdout"
        },
        {
          "output_type": "display_data",
          "data": {
            "image/png": "[encoded data removed]",
            "text/plain": [
              "<Figure size 460.8x345.6 with 1 Axes>"
            ]
          },
          "metadata": {
            "tags": []
          }
        },
        {
          "output_type": "stream",
          "text": [
            "order: 3\n",
            "Weights: [0.555555555555556, 0.888888888888889, 0.555555555555556]\n",
            "Roots    :  [-0.774596669241483, 0.0, 0.774596669241483]\n",
            "==============================================================================================================\n",
            "\n",
            "\n",
            "\n",
            "==============================================================================================================\n"
          ],
          "name": "stdout"
        },
        {
          "output_type": "display_data",
          "data": {
            "image/png": "[encoded data removed]",
            "text/plain": [
              "<Figure size 460.8x345.6 with 1 Axes>"
            ]
          },
          "metadata": {
            "tags": []
          }
        },
        {
          "output_type": "stream",
          "text": [
            "order: 4\n",
            "Weights: [0.347854845137454, 0.652145154862546, 0.652145154862546, 0.347854845137454]\n",
            "Roots    :  [-0.861136311594053, -0.339981043584856, 0.339981043584856, 0.861136311594053]\n",
            "==============================================================================================================\n",
            "\n",
            "\n",
            "\n",
            "==============================================================================================================\n"
          ],
          "name": "stdout"
        },
        {
          "output_type": "display_data",
          "data": {
            "image/png": "[encoded data removed]",
            "text/plain": [
              "<Figure size 460.8x345.6 with 1 Axes>"
            ]
          },
          "metadata": {
            "tags": []
          }
        },
        {
          "output_type": "stream",
          "text": [
            "order: 5\n",
            "Weights: [0.236926885056189, 0.478628670499366, 0.568888888888889, 0.478628670499366, 0.236926885056189]\n",
            "Roots    :  [-0.906179845938664, -0.538469310105683, 0.0, 0.538469310105683, 0.906179845938664]\n",
            "==============================================================================================================\n",
            "\n",
            "\n",
            "\n",
            "==============================================================================================================\n"
          ],
          "name": "stdout"
        },
        {
          "output_type": "display_data",
          "data": {
            "image/png": "[encoded data removed]",
            "text/plain": [
              "<Figure size 460.8x345.6 with 1 Axes>"
            ]
          },
          "metadata": {
            "tags": []
          }
        },
        {
          "output_type": "stream",
          "text": [
            "order: 6\n",
            "Weights: [0.171324492379171, 0.360761573048138, 0.467913934572691, 0.467913934572691, 0.360761573048138, 0.171324492379171]\n",
            "Roots    :  [-0.932469514203152, -0.661209386466265, -0.238619186083197, 0.238619186083197, 0.661209386466265, 0.932469514203152]\n",
            "==============================================================================================================\n",
            "\n",
            "\n",
            "\n",
            "==============================================================================================================\n"
          ],
          "name": "stdout"
        }
      ]
    },
    {
      "cell_type": "markdown",
      "metadata": {
        "id": "RWvTNmRa64dp"
      },
      "source": [
        "\n",
        "\n",
        "---\n",
        "\n"
      ]
    },
    {
      "cell_type": "markdown",
      "metadata": {
        "id": "LX5wWrpY7DdK"
      },
      "source": [
        "# Values of Shape Function at Gauss Points (Legendre root)\n",
        "\n",
        "Pramod Kumar Yadav (iampramodyadav)"
      ]
    },
    {
      "cell_type": "markdown",
      "metadata": {
        "id": "J9UDVLiRDlxj"
      },
      "source": [
        "Flow chart for Gauss-Legendre Quadrature use in FEA\n",
        "![Imgur](https://i.imgur.com/nTr2w2q.jpg \"FEA integration Flow Chart\")"
      ]
    },
    {
      "cell_type": "markdown",
      "metadata": {
        "id": "qzjhXo129HT4"
      },
      "source": [
        "\n",
        "\n",
        "---\n",
        "\n"
      ]
    },
    {
      "cell_type": "code",
      "metadata": {
        "id": "bEjTdvbZ5a4i"
      },
      "source": [
        "def ShapeLegRoot(p):\n",
        "  \"\"\"\n",
        "  =====================================================\n",
        "  ShapeLegRoot(p)\n",
        "\n",
        "  p : order of approximation (integer)\n",
        "  \n",
        "  Output: [n, W, xis, ShapeValueXi, dShapeValueXi]\n",
        "  Here,\n",
        "  n-    Order of gauss legendre polynomial\n",
        "  W-    Legendre Weights\n",
        "  xis-  Gauss point coordinates (real)\n",
        "  ShapeValueXi-   Value of shape function at  at all the  Xi (real)(Legendre Roots)\n",
        "  ShapeValueXi-   Value of derivative of shape function at Gauss points Xi(Legendre Roots) \n",
        "  =====================================================\n",
        "  \"\"\"\n",
        "\n",
        "  p=int(p)\n",
        "\n",
        "  pbar=max(2*p, p+2) \n",
        "  if pbar%2!=0:                                   #if odd\n",
        "    n=(pbar+1)/2\n",
        "  else:\n",
        "    n=(pbar+2)/2\n",
        "\n",
        "  n=int(n)\n",
        "\n",
        "  #print(\"Order of gauss legendre polynomial:\",n)\n",
        "\n",
        "  [W, xis, err]=GaussLegendreWeights(n)           #order: Polyorder(n), Weights:  W, Roots: xis\n",
        "\n",
        "  ShapeValueXi=np.zeros((n, p+1))\n",
        "  dShapeValueXi=np.zeros((n, p+1))\n",
        "\n",
        "  #print('ndofel(p+1):',p+1)\n",
        "  #print('Shape of shape value matrix:',ShapeValueXi.shape)\n",
        "\n",
        "  s=SHAPE(p)\n",
        "  ds=dSHAPE(p)\n",
        "\n",
        "  for i in range(0,n):\n",
        "    for j in range(0,p+1):\n",
        "\n",
        "      ShapeValueXi[i][j]=s[j].subs(z,xis[i])          #w.subs(x,x1)\n",
        "      dShapeValueXi[i][j]=ds[j].subs(z,xis[i])\n",
        "\n",
        "  return [n, W, xis, ShapeValueXi, dShapeValueXi]"
      ],
      "execution_count": 43,
      "outputs": []
    },
    {
      "cell_type": "code",
      "metadata": {
        "colab": {
          "base_uri": "https://localhost:8080/"
        },
        "id": "0IGVv0eyvHdm",
        "outputId": "7df0fbf4-5add-4290-f321-20a0951654e2"
      },
      "source": [
        "print(ShapeLegRoot.__doc__)"
      ],
      "execution_count": 44,
      "outputs": [
        {
          "output_type": "stream",
          "text": [
            "\n",
            "  =====================================================\n",
            "  ShapeLegRoot(p)\n",
            "\n",
            "  p : order of approximation (integer)\n",
            "  \n",
            "  Output: [n, W, xis, ShapeValueXi, dShapeValueXi]\n",
            "  Here,\n",
            "  n-    Order of gauss legendre polynomial\n",
            "  W-    Legendre Weights\n",
            "  xis-  Gauss point coordinates (real)\n",
            "  ShapeValueXi-   Value of shape function at  at all the  Xi (real)(Legendre Roots)\n",
            "  ShapeValueXi-   Value of derivative of shape function at Gauss points Xi(Legendre Roots) \n",
            "  =====================================================\n",
            "  \n"
          ],
          "name": "stdout"
        }
      ]
    },
    {
      "cell_type": "markdown",
      "metadata": {
        "id": "HB_VJZ_-vxCp"
      },
      "source": [
        "\n",
        "\n",
        "---\n",
        "\n"
      ]
    },
    {
      "cell_type": "code",
      "metadata": {
        "colab": {
          "base_uri": "https://localhost:8080/"
        },
        "id": "ywj7ObOf3ZOe",
        "outputId": "ac12f11d-ea09-492d-e88b-ba63741374ed"
      },
      "source": [
        "ShapeLegRoot(1)"
      ],
      "execution_count": 45,
      "outputs": [
        {
          "output_type": "execute_result",
          "data": {
            "text/plain": [
              "[2,\n",
              " [1.00000000000000, 1.00000000000000],\n",
              " [-0.577350269189626, 0.577350269189626],\n",
              " array([[0.78867513, 0.21132487],\n",
              "        [0.21132487, 0.78867513]]),\n",
              " array([[-0.5,  0.5],\n",
              "        [-0.5,  0.5]])]"
            ]
          },
          "metadata": {
            "tags": []
          },
          "execution_count": 0
        }
      ]
    },
    {
      "cell_type": "code",
      "metadata": {
        "id": "yUl2TSNOZgyI"
      },
      "source": [
        "[n, W,xis,ShapeValueXi,dShapeValueXi]=ShapeLegRoot(2)"
      ],
      "execution_count": 46,
      "outputs": []
    },
    {
      "cell_type": "code",
      "metadata": {
        "colab": {
          "base_uri": "https://localhost:8080/"
        },
        "id": "enSqkBCyhFXu",
        "outputId": "59f54016-4db6-4154-fbaa-b00440569dd5"
      },
      "source": [
        "dShapeValueXi"
      ],
      "execution_count": 47,
      "outputs": [
        {
          "output_type": "execute_result",
          "data": {
            "text/plain": [
              "array([[-1.27459667,  1.54919334, -0.27459667],\n",
              "       [-0.5       ,  0.        ,  0.5       ],\n",
              "       [ 0.27459667, -1.54919334,  1.27459667]])"
            ]
          },
          "metadata": {
            "tags": []
          },
          "execution_count": 0
        }
      ]
    },
    {
      "cell_type": "code",
      "metadata": {
        "colab": {
          "base_uri": "https://localhost:8080/"
        },
        "id": "rxAp1JX4gL7r",
        "outputId": "9420e90c-a204-47c4-bd11-d67ec6bc1726"
      },
      "source": [
        "ShapeValueXi"
      ],
      "execution_count": 48,
      "outputs": [
        {
          "output_type": "execute_result",
          "data": {
            "text/plain": [
              "array([[ 0.68729833,  0.4       , -0.08729833],\n",
              "       [ 0.        ,  1.        ,  0.        ],\n",
              "       [-0.08729833,  0.4       ,  0.68729833]])"
            ]
          },
          "metadata": {
            "tags": []
          },
          "execution_count": 0
        }
      ]
    },
    {
      "cell_type": "code",
      "metadata": {
        "colab": {
          "base_uri": "https://localhost:8080/"
        },
        "id": "qwOT5SeDgOoF",
        "outputId": "9fcd487a-8a6f-4de0-9d43-27991bdb3d09"
      },
      "source": [
        "W"
      ],
      "execution_count": 49,
      "outputs": [
        {
          "output_type": "execute_result",
          "data": {
            "text/plain": [
              "[0.555555555555556, 0.888888888888889, 0.555555555555556]"
            ]
          },
          "metadata": {
            "tags": []
          },
          "execution_count": 0
        }
      ]
    },
    {
      "cell_type": "markdown",
      "metadata": {
        "id": "gaZaPUjbDGcQ"
      },
      "source": [
        "# Element Calculation"
      ]
    },
    {
      "cell_type": "markdown",
      "metadata": {
        "id": "f7Ki1zpvwDg9"
      },
      "source": [
        "* Here linear mapping function used between the physical coordinate (x) and the natural coordinate $\\xi$ (here, z) :\n",
        "\n",
        "  * ![](https://i.imgur.com/2yMRAeP.png)\n",
        "\n",
        "  * Hence, $x_1^k$ (xL) and $x_{p+1}^k$ (xR) are the coordinates of the end nodes of the element $k$ and $p$ denotes the order of approximation.\n",
        "\n",
        "* Expressions for Element Stiffness Matrix and Force Vector\n",
        "  * $$\\boxed{\\displaystyle k_{i j}^{k}=\\int_{-1}^{1} \\hat{E}(\\xi) \\hat{A}(\\xi) \\frac{d \\hat{N}_{i}(\\xi)}{d \\xi} \\frac{d \\hat{N}_{j}(\\xi)}{d \\xi} \\frac{2}{h_{k}} d \\xi \\quad \\text { for } i, j=1,2, \\ldots, p+1}$$\n",
        "\n",
        "  * $$\\boxed{\\displaystyle f_{i}^{k}=\\int_{-1}^{1} \\hat{f}(\\xi) \\hat{N}_{i}(\\xi) \\frac{h_{k}}{2} d \\xi \\quad i=1,2, \\ldots, p+1}$$\n",
        "\n",
        "  "
      ]
    },
    {
      "cell_type": "markdown",
      "metadata": {
        "id": "v0ZmkCrjkAfO"
      },
      "source": [
        "## Local K, and fi"
      ]
    },
    {
      "cell_type": "code",
      "metadata": {
        "id": "ZkkWm_z6Z-Gp"
      },
      "source": [
        "def ElemKfi(k,p,xL,xR,E,a0,a1=0,a2=0,f0=0,f1=0,f2=0):\n",
        "  \"\"\"\n",
        "  =====================================================\n",
        "  ElemKfi(k,p,xL,xR,E,a0,a1=0,a2=0,f0=0,f1=0,f2=0)\n",
        "\n",
        "  k :   element number (integer)\n",
        "  p :   order of approximation (integer)\n",
        "  xL :  x -coordinate of the left end of the element (real)\n",
        "  xR :  x -coordinate of the right end of the element (real)\n",
        "  E :   Young's modules ( E ) of the bar material which is taken as constant (real)\n",
        "  a0,a1,a2 : coefficients in (A=a0 + a1*x + a2*(x**2)) for the area of cross-section ( A ) of the bar (real)\n",
        "  f0,f1,f2 : coefficients in (f = f0 + f1*x + f2*x*x) for the distributed force ( f ) acting on the bar (real)\n",
        "\n",
        "  Output: [Ke, fe]\n",
        "  Ke : element stiffness matrix (real)\n",
        "  fe : element force vector (real)\n",
        "  =====================================================\n",
        "  \"\"\"\n",
        "\n",
        "  Ke=np.zeros((p+1,p+1))  # size of element matrix\n",
        "  h=xR - xL               # h : element length (real)\n",
        "\n",
        "  [n, W,xis,ShapeValueXi,dShapeValueXi]=ShapeLegRoot(p)\n",
        "  fe=np.zeros(p+1)\n",
        "\n",
        "  for m in range(0,n):\n",
        "    xi=xis[m]\n",
        "    x = xL*(1 - z)/2 + xR*(1 + z)/2\n",
        "\n",
        "    EA = E*(a0 + a1*x+a2*(x**2))\n",
        "    EA = EA.subs(z,xi)\n",
        "\n",
        "    f = f0 + f1*x + f2*x*x\n",
        "    f=f.subs(z,xi)\n",
        "\n",
        "    for i in range(0, p+1):\n",
        "      fe[i] = fe[i] + f*ShapeValueXi[m][i]*(h/2)*W[m]\n",
        "\n",
        "      for j in range(0,p+1):\n",
        "        Ke[i][j] = Ke[i][j]+EA*dShapeValueXi[m][i]*dShapeValueXi[m][j]*(2/h)*W[m]\n",
        "\n",
        "  return [Ke, fe]"
      ],
      "execution_count": 50,
      "outputs": []
    },
    {
      "cell_type": "code",
      "metadata": {
        "colab": {
          "base_uri": "https://localhost:8080/"
        },
        "id": "NGt6894Is-i3",
        "outputId": "f1167b28-c6fd-4c48-f5a3-3152820e48cc"
      },
      "source": [
        "print(ElemKfi.__doc__)"
      ],
      "execution_count": 51,
      "outputs": [
        {
          "output_type": "stream",
          "text": [
            "\n",
            "  =====================================================\n",
            "  ElemKfi(k,p,xL,xR,E,a0,a1=0,a2=0,f0=0,f1=0,f2=0)\n",
            "\n",
            "  k :   element number (integer)\n",
            "  p :   order of approximation (integer)\n",
            "  xL :  x -coordinate of the left end of the element (real)\n",
            "  xR :  x -coordinate of the right end of the element (real)\n",
            "  E :   Young's modules ( E ) of the bar material which is taken as constant (real)\n",
            "  a0,a1,a2 : coefficients in (A=a0 + a1*x + a2*(x**2)) for the area of cross-section ( A ) of the bar (real)\n",
            "  f0,f1,f2 : coefficients in (f = f0 + f1*x + f2*x*x) for the distributed force ( f ) acting on the bar (real)\n",
            "\n",
            "  Output: [Ke, fe]\n",
            "  Ke : element stiffness matrix (real)\n",
            "  fe : element force vector (real)\n",
            "  =====================================================\n",
            "  \n"
          ],
          "name": "stdout"
        }
      ]
    },
    {
      "cell_type": "markdown",
      "metadata": {
        "id": "krPOnDyuvsLX"
      },
      "source": [
        "\n",
        "\n",
        "---\n",
        "\n"
      ]
    },
    {
      "cell_type": "markdown",
      "metadata": {
        "id": "P_pjViMUWlAk"
      },
      "source": [
        "### Example:1\n",
        "![Imgur](https://i.imgur.com/sYD9Uwt.png)\n",
        "\n"
      ]
    },
    {
      "cell_type": "code",
      "metadata": {
        "colab": {
          "base_uri": "https://localhost:8080/"
        },
        "id": "nqLdqJfOSzgV",
        "outputId": "c7d437b9-9704-4135-c5ad-f1b0d098b1d7"
      },
      "source": [
        "ElemKfi(k=1,p=1,xL=0,xR=10,a0=6,a1=-0.1,a2=0,E=30)"
      ],
      "execution_count": 52,
      "outputs": [
        {
          "output_type": "execute_result",
          "data": {
            "text/plain": [
              "[array([[ 16.5, -16.5],\n",
              "        [-16.5,  16.5]]), array([0., 0.])]"
            ]
          },
          "metadata": {
            "tags": []
          },
          "execution_count": 0
        }
      ]
    },
    {
      "cell_type": "code",
      "metadata": {
        "colab": {
          "base_uri": "https://localhost:8080/"
        },
        "id": "6CWI-3IvTit8",
        "outputId": "008f78ee-f259-4d38-ee1a-49ef39f7a34c"
      },
      "source": [
        "ElemKfi(k=1,p=1,xL=10,xR=20,a0=6,a1=-0.1,E=30)"
      ],
      "execution_count": 53,
      "outputs": [
        {
          "output_type": "execute_result",
          "data": {
            "text/plain": [
              "[array([[ 13.5, -13.5],\n",
              "        [-13.5,  13.5]]), array([0., 0.])]"
            ]
          },
          "metadata": {
            "tags": []
          },
          "execution_count": 0
        }
      ]
    },
    {
      "cell_type": "code",
      "metadata": {
        "colab": {
          "base_uri": "https://localhost:8080/"
        },
        "id": "eZnB3P4FTjiU",
        "outputId": "95fbad9d-400c-4d24-bdc8-d75c247f101c"
      },
      "source": [
        "ElemKfi(k=1,p=1,xL=20,xR=30,a0=6,a1=-0.1,E=30)"
      ],
      "execution_count": 54,
      "outputs": [
        {
          "output_type": "execute_result",
          "data": {
            "text/plain": [
              "[array([[ 10.5, -10.5],\n",
              "        [-10.5,  10.5]]), array([0., 0.])]"
            ]
          },
          "metadata": {
            "tags": []
          },
          "execution_count": 0
        }
      ]
    },
    {
      "cell_type": "markdown",
      "metadata": {
        "id": "gL8XXH6_WwRa"
      },
      "source": [
        "### Example:2\n",
        "- book:\n",
        "Fundamentals of Finite Element Analysis\n",
        "Linear Finite Element Analysis-Ioannis Koutromanos\n",
        "- example-33.2\n",
        "- page-87/729\n",
        "![Imgur](https://i.imgur.com/JlgVqxT.png)"
      ]
    },
    {
      "cell_type": "code",
      "metadata": {
        "colab": {
          "base_uri": "https://localhost:8080/"
        },
        "id": "5gYANMqCV55C",
        "outputId": "39be59fd-c1c3-420d-b10b-1ff71aa36da7"
      },
      "source": [
        "ElemKfi(k=1,p=1,xL=0,xR=5,a0=1,a1=0,a2=1/400,E=5000)   #for element-1"
      ],
      "execution_count": 55,
      "outputs": [
        {
          "output_type": "execute_result",
          "data": {
            "text/plain": [
              "[array([[ 1020.83333333, -1020.83333333],\n",
              "        [-1020.83333333,  1020.83333333]]), array([0., 0.])]"
            ]
          },
          "metadata": {
            "tags": []
          },
          "execution_count": 0
        }
      ]
    },
    {
      "cell_type": "code",
      "metadata": {
        "colab": {
          "base_uri": "https://localhost:8080/"
        },
        "id": "yvFWyT2TXwYy",
        "outputId": "82872682-daf2-438a-c0c3-e3cd79cb3920"
      },
      "source": [
        "ElemKfi(k=1,p=1,xL=5,xR=20,a0=1,a1=0,a2=1/400,E=5000)   #for element-2"
      ],
      "execution_count": 56,
      "outputs": [
        {
          "output_type": "execute_result",
          "data": {
            "text/plain": [
              "[array([[ 479.16666667, -479.16666667],\n",
              "        [-479.16666667,  479.16666667]]), array([0., 0.])]"
            ]
          },
          "metadata": {
            "tags": []
          },
          "execution_count": 0
        }
      ]
    },
    {
      "cell_type": "markdown",
      "metadata": {
        "id": "c0mcwschj32n"
      },
      "source": [
        "**Stiffeness and Force**"
      ]
    },
    {
      "cell_type": "code",
      "metadata": {
        "colab": {
          "base_uri": "https://localhost:8080/"
        },
        "id": "ElKC-IYFax1Y",
        "outputId": "695614c3-6369-4f9d-a8bb-d93ff1dbf1d4"
      },
      "source": [
        "ElemKfi(k=1,p=1,xL=0,xR=5,E=5000,a0=1,a1=0,a2=1/400,f0=2)"
      ],
      "execution_count": 57,
      "outputs": [
        {
          "output_type": "execute_result",
          "data": {
            "text/plain": [
              "[array([[ 1020.83333333, -1020.83333333],\n",
              "        [-1020.83333333,  1020.83333333]]), array([5., 5.])]"
            ]
          },
          "metadata": {
            "tags": []
          },
          "execution_count": 0
        }
      ]
    },
    {
      "cell_type": "code",
      "metadata": {
        "colab": {
          "base_uri": "https://localhost:8080/"
        },
        "id": "S6RgO6vLibci",
        "outputId": "c046a581-bf25-4e07-d8db-a83533622377"
      },
      "source": [
        "ElemKfi(k=1,p=1,xL=5,xR=20,E=5000,a0=1,a1=0,a2=1/400,f0=2)"
      ],
      "execution_count": 58,
      "outputs": [
        {
          "output_type": "execute_result",
          "data": {
            "text/plain": [
              "[array([[ 479.16666667, -479.16666667],\n",
              "        [-479.16666667,  479.16666667]]), array([15., 15.])]"
            ]
          },
          "metadata": {
            "tags": []
          },
          "execution_count": 0
        }
      ]
    },
    {
      "cell_type": "markdown",
      "metadata": {
        "id": "pBDY3k7JPTbG"
      },
      "source": [
        "## Global $K_{ij}$, & $f_i$ if 1-D Bar Devided in Equal Size of Elements "
      ]
    },
    {
      "cell_type": "code",
      "metadata": {
        "id": "SvWTsAahKLMh"
      },
      "source": [
        "def GlobalKfi(k,p,xL,xR,E,a0,a1=0,a2=0,f0=0,f1=0,f2=0):\n",
        "\n",
        "  \"\"\"\n",
        "  =====================================================\n",
        "    Note: For elements of equal length\n",
        "\n",
        "    GlobalKfi(k,p,xL,xR,E,a0,a1=0,a2=0,f0=0,f1=0,f2=0)\n",
        "\n",
        "    k :   number of elements (integer)\n",
        "    p :   order of approximation (integer)\n",
        "    xL :  x -coordinate of the left end of the element (real)\n",
        "    xR :  x -coordinate of the right end of the element (real)\n",
        "    E :   Young's modules ( E ) of the bar material which is taken as constant (real)\n",
        "    a0,a1,a2 : coefficients in (A=a0 + a1*x + a2*(x**2)) for the area of cross-section ( A ) of the bar (real)\n",
        "    f0,f1,f2 : coefficients in (f = f0 + f1*x + f2*x*x) for the distributed force ( f ) acting on the bar (real)\n",
        "\n",
        "    Output: [Kg, fg]\n",
        "    Kg : Global stiffness matrix (real)\n",
        "    fg : Global force vector (real)\n",
        "  =====================================================\n",
        "  \"\"\"\n",
        "\n",
        "  Kg=np.zeros(((k+1)*p,(k+1)*p))  #size of element matrix\n",
        "  h=xR - xL\n",
        "\n",
        "  [n, W,xis,ShapeValueXi,dShapeValueXi]=ShapeLegRoot(p)\n",
        "  fg=np.zeros((k+1)*p)\n",
        "\n",
        "  for e in range(0,k*p,p):\n",
        "    #xL=N[e]\n",
        "    #xR=N[e+1]\n",
        "    for m in range(0,n):\n",
        "      xi=xis[m]\n",
        "      x = (xL+h*e)*(1 - z)/2 + (xR+h*e)*(1 + z)/2\n",
        "\n",
        "      EA = E*(a0 + a1*x+a2*(x**2))\n",
        "      EA = EA.subs(z,xi)\n",
        "\n",
        "      f = f0 + f1*x + f2*x*x\n",
        "      f=f.subs(z,xi)\n",
        "\n",
        "      for i in range(0, p+1):\n",
        "        fg[i+e] = fg[i+e] + f*ShapeValueXi[m][i]*(h/2)*W[m]\n",
        "\n",
        "        for j in range(0,p+1):\n",
        "          Kg[i+e][j+e] = Kg[i+e][j+e]+EA*dShapeValueXi[m][i]*dShapeValueXi[m][j]*(2/h)*W[m]\n",
        "\n",
        "  return [Kg, fg]"
      ],
      "execution_count": 59,
      "outputs": []
    },
    {
      "cell_type": "code",
      "metadata": {
        "colab": {
          "base_uri": "https://localhost:8080/"
        },
        "id": "La5nsVc2tzYW",
        "outputId": "08ecff18-e72c-47c1-e255-8bdc98dc2f7f"
      },
      "source": [
        "print(GlobalKfi.__doc__)"
      ],
      "execution_count": 60,
      "outputs": [
        {
          "output_type": "stream",
          "text": [
            "\n",
            "  =====================================================\n",
            "    Note: For elements of equal length\n",
            "\n",
            "    GlobalKfi(k,p,xL,xR,E,a0,a1=0,a2=0,f0=0,f1=0,f2=0)\n",
            "\n",
            "    k :   number of elements (integer)\n",
            "    p :   order of approximation (integer)\n",
            "    xL :  x -coordinate of the left end of the element (real)\n",
            "    xR :  x -coordinate of the right end of the element (real)\n",
            "    E :   Young's modules ( E ) of the bar material which is taken as constant (real)\n",
            "    a0,a1,a2 : coefficients in (A=a0 + a1*x + a2*(x**2)) for the area of cross-section ( A ) of the bar (real)\n",
            "    f0,f1,f2 : coefficients in (f = f0 + f1*x + f2*x*x) for the distributed force ( f ) acting on the bar (real)\n",
            "\n",
            "    Output: [Kg, fg]\n",
            "    Kg : Global stiffness matrix (real)\n",
            "    fg : Global force vector (real)\n",
            "  =====================================================\n",
            "  \n"
          ],
          "name": "stdout"
        }
      ]
    },
    {
      "cell_type": "markdown",
      "metadata": {
        "id": "Dv2MG8lLitAy"
      },
      "source": [
        "### **Example:1**\n",
        "![Imgur](https://i.imgur.com/sYD9Uwt.png)"
      ]
    },
    {
      "cell_type": "markdown",
      "metadata": {
        "id": "2CtLEGsyjFU3"
      },
      "source": [
        "**Solution:**\n",
        "Local Stiffeness Matrices"
      ]
    },
    {
      "cell_type": "code",
      "metadata": {
        "colab": {
          "base_uri": "https://localhost:8080/"
        },
        "id": "KX3W5V5OSq2O",
        "outputId": "d0b28d67-d74d-44af-9cc6-76427075f1db"
      },
      "source": [
        "[K,f]=ElemKfi(k=1,p=1,xL=0,xR=10,a0=6,a1=-0.1,a2=0,E=30,f0=0.1296,f1=-0.00216) #element1\n",
        "print(\"Local Stiffness Matrix: \\n\\n\", K,\"\\n\\n\")\n",
        "print(\"Global Force Vector (due to distributed force):\\n\\n \", f)"
      ],
      "execution_count": 77,
      "outputs": [
        {
          "output_type": "stream",
          "text": [
            "Local Stiffness Matrix: \n",
            "\n",
            " [[ 16.5 -16.5]\n",
            " [-16.5  16.5]] \n",
            "\n",
            "\n",
            "Global Force Vector (due to distributed force):\n",
            "\n",
            "  [0.612 0.576]\n"
          ],
          "name": "stdout"
        }
      ]
    },
    {
      "cell_type": "code",
      "metadata": {
        "colab": {
          "base_uri": "https://localhost:8080/"
        },
        "id": "0SFhwCzGSw1Y",
        "outputId": "f46c4dec-e8c2-415e-8a02-ae81ce0db9fc"
      },
      "source": [
        "[K,f]=ElemKfi(k=1,p=1,xL=10,xR=20,a0=6,a1=-0.1,a2=0,E=30,f0=0.1296,f1=-0.00216) #element2\n",
        "print(\"Local Stiffness Matrix: \\n\\n\", K,\"\\n\\n\")\n",
        "print(\"Global Force Vector (due to distributed force):\\n\\n \", f)"
      ],
      "execution_count": 78,
      "outputs": [
        {
          "output_type": "stream",
          "text": [
            "Local Stiffness Matrix: \n",
            "\n",
            " [[ 13.5 -13.5]\n",
            " [-13.5  13.5]] \n",
            "\n",
            "\n",
            "Global Force Vector (due to distributed force):\n",
            "\n",
            "  [0.504 0.468]\n"
          ],
          "name": "stdout"
        }
      ]
    },
    {
      "cell_type": "code",
      "metadata": {
        "colab": {
          "base_uri": "https://localhost:8080/"
        },
        "id": "HQzWfGRtTAUf",
        "outputId": "ef881528-568d-454c-9cf8-f13d145e6329"
      },
      "source": [
        "[K,f]=ElemKfi(k=1,p=1,xL=20,xR=30,a0=6,a1=-0.1,a2=0,E=30,f0=0.1296,f1=-0.00216) #element3\n",
        "print(\"Local Stiffness Matrix: \\n\\n\", K,\"\\n\\n\")\n",
        "print(\"Global Force Vector (due to distributed force):\\n\\n \", f)"
      ],
      "execution_count": 79,
      "outputs": [
        {
          "output_type": "stream",
          "text": [
            "Local Stiffness Matrix: \n",
            "\n",
            " [[ 10.5 -10.5]\n",
            " [-10.5  10.5]] \n",
            "\n",
            "\n",
            "Global Force Vector (due to distributed force):\n",
            "\n",
            "  [0.396 0.36 ]\n"
          ],
          "name": "stdout"
        }
      ]
    },
    {
      "cell_type": "markdown",
      "metadata": {
        "id": "pBiLVa_-jLWX"
      },
      "source": [
        "Global Stiffeness Matrix\n",
        "1. Equal Elements Length (Methode-1)"
      ]
    },
    {
      "cell_type": "code",
      "metadata": {
        "colab": {
          "base_uri": "https://localhost:8080/"
        },
        "id": "luH0lSEaPXpX",
        "outputId": "7b207c47-349b-42f7-9613-76f4821ae814"
      },
      "source": [
        "[Kij, fi]=GlobalKfi(k=3,p=1,xL=0,xR=10,a0=6,a1=-0.1,a2=0,E=30,f0=0.1296,f1=-0.00216)\n",
        "print(\"Global Stiffness Matrix: \\n\\n\", Kij,\"\\n\\n\")\n",
        "print(\"Global Force Vector (due to distributed force):\\n\\n \", fi)"
      ],
      "execution_count": 76,
      "outputs": [
        {
          "output_type": "stream",
          "text": [
            "Global Stiffness Matrix: \n",
            "\n",
            " [[ 16.5 -16.5   0.    0. ]\n",
            " [-16.5  30.  -13.5   0. ]\n",
            " [  0.  -13.5  24.  -10.5]\n",
            " [  0.    0.  -10.5  10.5]] \n",
            "\n",
            "\n",
            "Global Force Vector (due to distributed force):\n",
            "\n",
            "  [0.612 1.08  0.864 0.36 ]\n"
          ],
          "name": "stdout"
        }
      ]
    },
    {
      "cell_type": "markdown",
      "metadata": {
        "id": "CA42ETCPvppa"
      },
      "source": [
        "\n",
        "\n",
        "---\n",
        "\n"
      ]
    },
    {
      "cell_type": "markdown",
      "metadata": {
        "id": "l5rjI5arJbip"
      },
      "source": [
        "## Global Kij, & fi if 1-D Bar Devided in Unequal Size of Elements\n",
        "\n",
        "\n",
        "*   NodesList=Nodes X- Cordinate as list\n",
        "*   k=Number of element\n",
        "*   here,K+1=length(NodesList)\n",
        "\n"
      ]
    },
    {
      "cell_type": "code",
      "metadata": {
        "id": "5ayVVTusCf9j"
      },
      "source": [
        "def GlobalKfiU(k,p,E,NodesList,a0,a1=0,a2=0,f0=0,f1=0,f2=0):\n",
        "\n",
        "  \"\"\"\n",
        "  =====================================================\n",
        "    Note: For elements of equal length\n",
        "\n",
        "    GlobalKfiU(k,p,E,NodesList,a0,a1=0,a2=0,f0=0,f1=0,f2=0)\n",
        "\n",
        "    k :   number of elements (integer)\n",
        "    p :   order of approximation (integer)\n",
        "    NodesList:  [x0,x1,x2....xk] (X coordinates of nodes)\n",
        "    E :   Young's modules ( E ) of the bar material which is taken as constant (real)\n",
        "    a0,a1,a2 : coefficients in (A=a0 + a1*x + a2*(x**2)) for the area of cross-section ( A ) of the bar (real)\n",
        "    f0,f1,f2 : coefficients in (f = f0 + f1*x + f2*x*x) for the distributed force ( f ) acting on the bar (real)\n",
        "\n",
        "    Output: [Kg, fg]\n",
        "    Kg : Globel stiffness matrix (real)\n",
        "    fg : Globel force vector (real)\n",
        "  =====================================================\n",
        "  \"\"\"\n",
        "\n",
        "  Kg=np.zeros(((k+1)*p,(k+1)*p))                        #size of element matrix\n",
        "\n",
        "  [n, W,xis,ShapeValueXi,dShapeValueXi]=ShapeLegRoot(p)\n",
        "  fg=np.zeros((k+1)*p)\n",
        "\n",
        "  for e in range(0,k*p,p):\n",
        "    xL=NodesList[e]\n",
        "    xR=NodesList[e+1]\n",
        "    h=xR - xL\n",
        "\n",
        "    for m in range(0,n):\n",
        "      xi=xis[m]\n",
        "      x = (xL)*(1 - z)/2 + (xR)*(1 + z)/2\n",
        "\n",
        "      EA = E*(a0 + a1*x+a2*(x**2))\n",
        "      EA = EA.subs(z,xi)\n",
        "\n",
        "      f = f0 + f1*x + f2*x*x\n",
        "      f=f.subs(z,xi)\n",
        "\n",
        "      for i in range(0, p+1):\n",
        "        fg[i+e] = fg[i+e] + f*ShapeValueXi[m][i]*(h/2)*W[m]\n",
        "\n",
        "        for j in range(0,p+1):\n",
        "          Kg[i+e][j+e] = Kg[i+e][j+e]+EA*dShapeValueXi[m][i]*dShapeValueXi[m][j]*(2/h)*W[m]\n",
        "\n",
        "  return [Kg, fg]"
      ],
      "execution_count": 66,
      "outputs": []
    },
    {
      "cell_type": "markdown",
      "metadata": {
        "id": "fWB8OplYKP4o"
      },
      "source": [
        "### **Example:2**\n",
        "*![Imgur](https://i.imgur.com/JlgVqxT.png)*"
      ]
    },
    {
      "cell_type": "markdown",
      "metadata": {
        "id": "P0d39HqqkQ5Y"
      },
      "source": [
        "**Solution**"
      ]
    },
    {
      "cell_type": "code",
      "metadata": {
        "colab": {
          "base_uri": "https://localhost:8080/"
        },
        "id": "jA2YCacfE5Pt",
        "outputId": "847ad340-5704-43a5-f70c-17b0613c212a"
      },
      "source": [
        "[Kij,fi]=GlobalKfiU(k=2,p=1,NodesList=[0,5,20],E=5000,a0=1,a1=0,a2=1/400,f0=2)\n",
        "print(\"Global Stiffness Matrix: \\n\\n\", Kij,\"\\n\\n\")\n",
        "print(\"Global Force Vector (due to distributed force):\\n\\n \", fi)"
      ],
      "execution_count": 74,
      "outputs": [
        {
          "output_type": "stream",
          "text": [
            "Global Stiffness Matrix: \n",
            "\n",
            " [[ 1020.83333333 -1020.83333333     0.        ]\n",
            " [-1020.83333333  1500.          -479.16666667]\n",
            " [    0.          -479.16666667   479.16666667]] \n",
            "\n",
            "\n",
            "Global Force Vector (due to distributed force):\n",
            "\n",
            "  [ 5. 20. 15.]\n"
          ],
          "name": "stdout"
        }
      ]
    },
    {
      "cell_type": "code",
      "metadata": {
        "id": "kd5S_aZGrIhF"
      },
      "source": [
        ""
      ],
      "execution_count": null,
      "outputs": []
    },
    {
      "cell_type": "markdown",
      "metadata": {
        "id": "Pz4PlDUboNDu"
      },
      "source": [
        "\n",
        "\n",
        "---\n",
        "\n"
      ]
    },
    {
      "cell_type": "markdown",
      "metadata": {
        "id": "HjL61MW9n98X"
      },
      "source": [
        "**Example-1 By this methode**"
      ]
    },
    {
      "cell_type": "code",
      "metadata": {
        "colab": {
          "base_uri": "https://localhost:8080/"
        },
        "id": "QCkHmPyDoGbm",
        "outputId": "0447db5d-2363-4ccf-bc16-13ef7b9b8bde"
      },
      "source": [
        "[Kij,fi]=GlobalKfiU(k=3,p=1,NodesList=[0,10,20,30],a0=6,a1=-0.1,a2=0,E=30,f0=0.1296,f1=-0.00216) #global K,f\n",
        "print(\"Global Stiffness Matrix: \\n\\n\", Kij,\"\\n\\n\")\n",
        "print(\"Global Force Vector (due to distributed force):\\n\\n \", fi)"
      ],
      "execution_count": 75,
      "outputs": [
        {
          "output_type": "stream",
          "text": [
            "Global Stiffness Matrix: \n",
            "\n",
            " [[ 16.5 -16.5   0.    0. ]\n",
            " [-16.5  30.  -13.5   0. ]\n",
            " [  0.  -13.5  24.  -10.5]\n",
            " [  0.    0.  -10.5  10.5]] \n",
            "\n",
            "\n",
            "Global Force Vector (due to distributed force):\n",
            "\n",
            "  [0.612 1.08  0.864 0.36 ]\n"
          ],
          "name": "stdout"
        }
      ]
    },
    {
      "cell_type": "markdown",
      "metadata": {
        "id": "I7GI9Xnfo_U1"
      },
      "source": [
        "\n",
        "\n",
        "---\n",
        "\n"
      ]
    }
  ]
}